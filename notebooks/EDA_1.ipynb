{
 "cells": [
  {
   "cell_type": "code",
   "execution_count": 1,
   "id": "3ec2d8bd",
   "metadata": {},
   "outputs": [],
   "source": [
    "from datetime import datetime\n",
    "import pandas as pd\n",
    "import seaborn as sns\n",
    "import numpy as np\n",
    "import json\n",
    "import matplotlib.pyplot as plt"
   ]
  },
  {
   "cell_type": "code",
   "execution_count": 2,
   "id": "fa95fe7e",
   "metadata": {
    "scrolled": false
   },
   "outputs": [
    {
     "data": {
      "text/html": [
       "<div>\n",
       "<style scoped>\n",
       "    .dataframe tbody tr th:only-of-type {\n",
       "        vertical-align: middle;\n",
       "    }\n",
       "\n",
       "    .dataframe tbody tr th {\n",
       "        vertical-align: top;\n",
       "    }\n",
       "\n",
       "    .dataframe thead th {\n",
       "        text-align: right;\n",
       "    }\n",
       "</style>\n",
       "<table border=\"1\" class=\"dataframe\">\n",
       "  <thead>\n",
       "    <tr style=\"text-align: right;\">\n",
       "      <th></th>\n",
       "      <th>ID_USER</th>\n",
       "      <th>genero</th>\n",
       "      <th>monto</th>\n",
       "      <th>fecha</th>\n",
       "      <th>hora</th>\n",
       "      <th>dispositivo</th>\n",
       "      <th>establecimiento</th>\n",
       "      <th>ciudad</th>\n",
       "      <th>tipo_tc</th>\n",
       "      <th>linea_tc</th>\n",
       "      <th>interes_tc</th>\n",
       "      <th>status_txn</th>\n",
       "      <th>is_prime</th>\n",
       "      <th>dcto</th>\n",
       "      <th>cashback</th>\n",
       "      <th>fraude</th>\n",
       "    </tr>\n",
       "  </thead>\n",
       "  <tbody>\n",
       "    <tr>\n",
       "      <th>0</th>\n",
       "      <td>0</td>\n",
       "      <td>F</td>\n",
       "      <td>608,3456335</td>\n",
       "      <td>21/01/2020</td>\n",
       "      <td>20</td>\n",
       "      <td>{'model': 2020; 'device_score': 3; 'os': 'ANDR...</td>\n",
       "      <td>Super</td>\n",
       "      <td>Merida</td>\n",
       "      <td>FÃ­sica</td>\n",
       "      <td>71000</td>\n",
       "      <td>51</td>\n",
       "      <td>Aceptada</td>\n",
       "      <td>False</td>\n",
       "      <td>60,83456335</td>\n",
       "      <td>5,475110702</td>\n",
       "      <td>False</td>\n",
       "    </tr>\n",
       "    <tr>\n",
       "      <th>1</th>\n",
       "      <td>0</td>\n",
       "      <td>F</td>\n",
       "      <td>88,71924289</td>\n",
       "      <td>15/01/2020</td>\n",
       "      <td>7</td>\n",
       "      <td>{'model': 2020; 'device_score': 1; 'os': 'ANDR...</td>\n",
       "      <td>NaN</td>\n",
       "      <td>Merida</td>\n",
       "      <td>Virtual</td>\n",
       "      <td>71000</td>\n",
       "      <td>51</td>\n",
       "      <td>Aceptada</td>\n",
       "      <td>False</td>\n",
       "      <td>0</td>\n",
       "      <td>1,774384858</td>\n",
       "      <td>False</td>\n",
       "    </tr>\n",
       "    <tr>\n",
       "      <th>2</th>\n",
       "      <td>1</td>\n",
       "      <td>F</td>\n",
       "      <td>790,0376533</td>\n",
       "      <td>17/01/2020</td>\n",
       "      <td>11</td>\n",
       "      <td>{'model': 2020; 'device_score': 1; 'os': ','}</td>\n",
       "      <td>NaN</td>\n",
       "      <td>Guadalajara</td>\n",
       "      <td>Virtual</td>\n",
       "      <td>94000</td>\n",
       "      <td>56</td>\n",
       "      <td>En proceso</td>\n",
       "      <td>False</td>\n",
       "      <td>0</td>\n",
       "      <td>15,80075307</td>\n",
       "      <td>False</td>\n",
       "    </tr>\n",
       "    <tr>\n",
       "      <th>3</th>\n",
       "      <td>1</td>\n",
       "      <td>F</td>\n",
       "      <td>767,0053873</td>\n",
       "      <td>5/01/2020</td>\n",
       "      <td>11</td>\n",
       "      <td>{'model': 2020; 'device_score': 3; 'os': 'WEB'}</td>\n",
       "      <td>MPago</td>\n",
       "      <td>Guadalajara</td>\n",
       "      <td>FÃ­sica</td>\n",
       "      <td>94000</td>\n",
       "      <td>56</td>\n",
       "      <td>Aceptada</td>\n",
       "      <td>False</td>\n",
       "      <td>0</td>\n",
       "      <td>7,670053873</td>\n",
       "      <td>False</td>\n",
       "    </tr>\n",
       "    <tr>\n",
       "      <th>4</th>\n",
       "      <td>1</td>\n",
       "      <td>F</td>\n",
       "      <td>254,1710526</td>\n",
       "      <td>30/01/2020</td>\n",
       "      <td>10</td>\n",
       "      <td>{'model': 2020; 'device_score': 3; 'os': '%%'}</td>\n",
       "      <td>NaN</td>\n",
       "      <td>Guadalajara</td>\n",
       "      <td>FÃ­sica</td>\n",
       "      <td>94000</td>\n",
       "      <td>56</td>\n",
       "      <td>Aceptada</td>\n",
       "      <td>False</td>\n",
       "      <td>0</td>\n",
       "      <td>2,541710526</td>\n",
       "      <td>False</td>\n",
       "    </tr>\n",
       "  </tbody>\n",
       "</table>\n",
       "</div>"
      ],
      "text/plain": [
       "   ID_USER genero        monto       fecha  hora  \\\n",
       "0        0      F  608,3456335  21/01/2020    20   \n",
       "1        0      F  88,71924289  15/01/2020     7   \n",
       "2        1      F  790,0376533  17/01/2020    11   \n",
       "3        1      F  767,0053873   5/01/2020    11   \n",
       "4        1      F  254,1710526  30/01/2020    10   \n",
       "\n",
       "                                         dispositivo establecimiento  \\\n",
       "0  {'model': 2020; 'device_score': 3; 'os': 'ANDR...           Super   \n",
       "1  {'model': 2020; 'device_score': 1; 'os': 'ANDR...             NaN   \n",
       "2      {'model': 2020; 'device_score': 1; 'os': ','}             NaN   \n",
       "3    {'model': 2020; 'device_score': 3; 'os': 'WEB'}           MPago   \n",
       "4     {'model': 2020; 'device_score': 3; 'os': '%%'}             NaN   \n",
       "\n",
       "        ciudad  tipo_tc  linea_tc  interes_tc  status_txn  is_prime  \\\n",
       "0       Merida  FÃ­sica     71000          51    Aceptada     False   \n",
       "1       Merida  Virtual     71000          51    Aceptada     False   \n",
       "2  Guadalajara  Virtual     94000          56  En proceso     False   \n",
       "3  Guadalajara  FÃ­sica     94000          56    Aceptada     False   \n",
       "4  Guadalajara  FÃ­sica     94000          56    Aceptada     False   \n",
       "\n",
       "          dcto     cashback  fraude  \n",
       "0  60,83456335  5,475110702   False  \n",
       "1            0  1,774384858   False  \n",
       "2            0  15,80075307   False  \n",
       "3            0  7,670053873   False  \n",
       "4            0  2,541710526   False  "
      ]
     },
     "execution_count": 2,
     "metadata": {},
     "output_type": "execute_result"
    }
   ],
   "source": [
    "df = pd.read_csv('DS Challenge.csv', sep=';', encoding='utf8')\n",
    "df.head()"
   ]
  },
  {
   "cell_type": "markdown",
   "id": "442ce945",
   "metadata": {},
   "source": [
    "## EDA"
   ]
  },
  {
   "cell_type": "markdown",
   "id": "ac6e38a6",
   "metadata": {},
   "source": [
    "Verificamos el tipo de variable de todos los parametros"
   ]
  },
  {
   "cell_type": "code",
   "execution_count": 3,
   "id": "c42a5e6f",
   "metadata": {
    "scrolled": false
   },
   "outputs": [
    {
     "data": {
      "text/plain": [
       "ID_USER             int64\n",
       "genero             object\n",
       "monto              object\n",
       "fecha              object\n",
       "hora                int64\n",
       "dispositivo        object\n",
       "establecimiento    object\n",
       "ciudad             object\n",
       "tipo_tc            object\n",
       "linea_tc            int64\n",
       "interes_tc          int64\n",
       "status_txn         object\n",
       "is_prime             bool\n",
       "dcto               object\n",
       "cashback           object\n",
       "fraude               bool\n",
       "dtype: object"
      ]
     },
     "execution_count": 3,
     "metadata": {},
     "output_type": "execute_result"
    }
   ],
   "source": [
    "df.dtypes"
   ]
  },
  {
   "cell_type": "markdown",
   "id": "1a9b0a80",
   "metadata": {},
   "source": [
    "* Se nota que los valores descuento, monto y cashback (devolucion) son string a pesar de ser obviamente númericos\n",
    "* Se nota que la columna tipo_tc presenta un unicode character a ser cambiado\n",
    "* Se tiene dos columnas para fecha: dia/mes/año y hora , por lo que se une en una sola columna\n",
    "* Se tiene la columna genero con la cadena de caracteres '--' que representaría valor faltante, reemplazamos por nan"
   ]
  },
  {
   "cell_type": "code",
   "execution_count": 4,
   "id": "60ae65aa",
   "metadata": {},
   "outputs": [],
   "source": [
    "df['cashback'] = df['cashback'].str.replace(',', '.').astype(float)\n",
    "df['monto'] = df['monto'].str.replace(',', '.').astype(float)\n",
    "df['dcto'] = df['dcto'].str.replace(',', '.').astype(float)\n",
    "\n",
    "# https://www.utf8-chartable.de/unicode-utf8-table.pl?start=128&number=128&utf8=string-literal&unicodeinhtml=hex\n",
    "df['tipo_tc'] = df['tipo_tc'].str.replace('\\xc3\\xad','í').astype(str) \n",
    "\n",
    "df['date'] = df.apply(lambda row: datetime.strptime(str(row['fecha']) + ' ' + str(row['hora']) + ':00:00', '%d/%m/%Y %H:%M:%S').timestamp(), axis=1)\n",
    "df['date'] = df['date'].astype('int64')\n",
    "\n",
    "df['genero'] = df['genero'].replace('--', np.NaN)"
   ]
  },
  {
   "cell_type": "markdown",
   "id": "5d970b92",
   "metadata": {},
   "source": [
    "* Se tiene un objecto dentro de la columna dispositivo que posee tres parametros más, por lo tanto creamos tres nuevas columnas para estos valores."
   ]
  },
  {
   "cell_type": "code",
   "execution_count": 5,
   "id": "f75bd639",
   "metadata": {},
   "outputs": [],
   "source": [
    "def split_dispositivo_column(row):\n",
    "    dispositivo = row['dispositivo'].replace(';', ',').replace('\\'','\\\"')\n",
    "    model = json.loads(dispositivo).get('model')\n",
    "    score = json.loads(dispositivo).get('device_score')\n",
    "    os = json.loads(dispositivo).get('os')\n",
    "    os = 'unknown_category_1' if os == ',' else ('unknown_category_2' if os == '%%' else os)\n",
    "    return pd.Series([model, score, os])\n",
    "    \n",
    "df[['dispositivo_model', 'dispositivo_puntaje', 'dispositivo_os']] = df.apply(split_dispositivo_column, axis = 1)"
   ]
  },
  {
   "cell_type": "code",
   "execution_count": 6,
   "id": "8ab924da",
   "metadata": {
    "scrolled": false
   },
   "outputs": [
    {
     "data": {
      "text/html": [
       "<div>\n",
       "<style scoped>\n",
       "    .dataframe tbody tr th:only-of-type {\n",
       "        vertical-align: middle;\n",
       "    }\n",
       "\n",
       "    .dataframe tbody tr th {\n",
       "        vertical-align: top;\n",
       "    }\n",
       "\n",
       "    .dataframe thead th {\n",
       "        text-align: right;\n",
       "    }\n",
       "</style>\n",
       "<table border=\"1\" class=\"dataframe\">\n",
       "  <thead>\n",
       "    <tr style=\"text-align: right;\">\n",
       "      <th></th>\n",
       "      <th>ID_USER</th>\n",
       "      <th>genero</th>\n",
       "      <th>monto</th>\n",
       "      <th>fecha</th>\n",
       "      <th>hora</th>\n",
       "      <th>dispositivo</th>\n",
       "      <th>establecimiento</th>\n",
       "      <th>ciudad</th>\n",
       "      <th>tipo_tc</th>\n",
       "      <th>linea_tc</th>\n",
       "      <th>interes_tc</th>\n",
       "      <th>status_txn</th>\n",
       "      <th>is_prime</th>\n",
       "      <th>dcto</th>\n",
       "      <th>cashback</th>\n",
       "      <th>fraude</th>\n",
       "      <th>date</th>\n",
       "      <th>dispositivo_model</th>\n",
       "      <th>dispositivo_puntaje</th>\n",
       "      <th>dispositivo_os</th>\n",
       "    </tr>\n",
       "  </thead>\n",
       "  <tbody>\n",
       "    <tr>\n",
       "      <th>0</th>\n",
       "      <td>0</td>\n",
       "      <td>F</td>\n",
       "      <td>608.345633</td>\n",
       "      <td>21/01/2020</td>\n",
       "      <td>20</td>\n",
       "      <td>{'model': 2020; 'device_score': 3; 'os': 'ANDR...</td>\n",
       "      <td>Super</td>\n",
       "      <td>Merida</td>\n",
       "      <td>Física</td>\n",
       "      <td>71000</td>\n",
       "      <td>51</td>\n",
       "      <td>Aceptada</td>\n",
       "      <td>False</td>\n",
       "      <td>60.834563</td>\n",
       "      <td>5.475111</td>\n",
       "      <td>False</td>\n",
       "      <td>1579654800</td>\n",
       "      <td>2020</td>\n",
       "      <td>3</td>\n",
       "      <td>ANDROID</td>\n",
       "    </tr>\n",
       "    <tr>\n",
       "      <th>1</th>\n",
       "      <td>0</td>\n",
       "      <td>F</td>\n",
       "      <td>88.719243</td>\n",
       "      <td>15/01/2020</td>\n",
       "      <td>7</td>\n",
       "      <td>{'model': 2020; 'device_score': 1; 'os': 'ANDR...</td>\n",
       "      <td>NaN</td>\n",
       "      <td>Merida</td>\n",
       "      <td>Virtual</td>\n",
       "      <td>71000</td>\n",
       "      <td>51</td>\n",
       "      <td>Aceptada</td>\n",
       "      <td>False</td>\n",
       "      <td>0.000000</td>\n",
       "      <td>1.774385</td>\n",
       "      <td>False</td>\n",
       "      <td>1579089600</td>\n",
       "      <td>2020</td>\n",
       "      <td>1</td>\n",
       "      <td>ANDROID</td>\n",
       "    </tr>\n",
       "    <tr>\n",
       "      <th>2</th>\n",
       "      <td>1</td>\n",
       "      <td>F</td>\n",
       "      <td>790.037653</td>\n",
       "      <td>17/01/2020</td>\n",
       "      <td>11</td>\n",
       "      <td>{'model': 2020; 'device_score': 1; 'os': ','}</td>\n",
       "      <td>NaN</td>\n",
       "      <td>Guadalajara</td>\n",
       "      <td>Virtual</td>\n",
       "      <td>94000</td>\n",
       "      <td>56</td>\n",
       "      <td>En proceso</td>\n",
       "      <td>False</td>\n",
       "      <td>0.000000</td>\n",
       "      <td>15.800753</td>\n",
       "      <td>False</td>\n",
       "      <td>1579276800</td>\n",
       "      <td>2020</td>\n",
       "      <td>1</td>\n",
       "      <td>unknown_category_1</td>\n",
       "    </tr>\n",
       "    <tr>\n",
       "      <th>3</th>\n",
       "      <td>1</td>\n",
       "      <td>F</td>\n",
       "      <td>767.005387</td>\n",
       "      <td>5/01/2020</td>\n",
       "      <td>11</td>\n",
       "      <td>{'model': 2020; 'device_score': 3; 'os': 'WEB'}</td>\n",
       "      <td>MPago</td>\n",
       "      <td>Guadalajara</td>\n",
       "      <td>Física</td>\n",
       "      <td>94000</td>\n",
       "      <td>56</td>\n",
       "      <td>Aceptada</td>\n",
       "      <td>False</td>\n",
       "      <td>0.000000</td>\n",
       "      <td>7.670054</td>\n",
       "      <td>False</td>\n",
       "      <td>1578240000</td>\n",
       "      <td>2020</td>\n",
       "      <td>3</td>\n",
       "      <td>WEB</td>\n",
       "    </tr>\n",
       "    <tr>\n",
       "      <th>4</th>\n",
       "      <td>1</td>\n",
       "      <td>F</td>\n",
       "      <td>254.171053</td>\n",
       "      <td>30/01/2020</td>\n",
       "      <td>10</td>\n",
       "      <td>{'model': 2020; 'device_score': 3; 'os': '%%'}</td>\n",
       "      <td>NaN</td>\n",
       "      <td>Guadalajara</td>\n",
       "      <td>Física</td>\n",
       "      <td>94000</td>\n",
       "      <td>56</td>\n",
       "      <td>Aceptada</td>\n",
       "      <td>False</td>\n",
       "      <td>0.000000</td>\n",
       "      <td>2.541711</td>\n",
       "      <td>False</td>\n",
       "      <td>1580396400</td>\n",
       "      <td>2020</td>\n",
       "      <td>3</td>\n",
       "      <td>unknown_category_2</td>\n",
       "    </tr>\n",
       "  </tbody>\n",
       "</table>\n",
       "</div>"
      ],
      "text/plain": [
       "   ID_USER genero       monto       fecha  hora  \\\n",
       "0        0      F  608.345633  21/01/2020    20   \n",
       "1        0      F   88.719243  15/01/2020     7   \n",
       "2        1      F  790.037653  17/01/2020    11   \n",
       "3        1      F  767.005387   5/01/2020    11   \n",
       "4        1      F  254.171053  30/01/2020    10   \n",
       "\n",
       "                                         dispositivo establecimiento  \\\n",
       "0  {'model': 2020; 'device_score': 3; 'os': 'ANDR...           Super   \n",
       "1  {'model': 2020; 'device_score': 1; 'os': 'ANDR...             NaN   \n",
       "2      {'model': 2020; 'device_score': 1; 'os': ','}             NaN   \n",
       "3    {'model': 2020; 'device_score': 3; 'os': 'WEB'}           MPago   \n",
       "4     {'model': 2020; 'device_score': 3; 'os': '%%'}             NaN   \n",
       "\n",
       "        ciudad  tipo_tc  linea_tc  interes_tc  status_txn  is_prime  \\\n",
       "0       Merida   Física     71000          51    Aceptada     False   \n",
       "1       Merida  Virtual     71000          51    Aceptada     False   \n",
       "2  Guadalajara  Virtual     94000          56  En proceso     False   \n",
       "3  Guadalajara   Física     94000          56    Aceptada     False   \n",
       "4  Guadalajara   Física     94000          56    Aceptada     False   \n",
       "\n",
       "        dcto   cashback  fraude        date  dispositivo_model  \\\n",
       "0  60.834563   5.475111   False  1579654800               2020   \n",
       "1   0.000000   1.774385   False  1579089600               2020   \n",
       "2   0.000000  15.800753   False  1579276800               2020   \n",
       "3   0.000000   7.670054   False  1578240000               2020   \n",
       "4   0.000000   2.541711   False  1580396400               2020   \n",
       "\n",
       "   dispositivo_puntaje      dispositivo_os  \n",
       "0                    3             ANDROID  \n",
       "1                    1             ANDROID  \n",
       "2                    1  unknown_category_1  \n",
       "3                    3                 WEB  \n",
       "4                    3  unknown_category_2  "
      ]
     },
     "execution_count": 6,
     "metadata": {},
     "output_type": "execute_result"
    }
   ],
   "source": [
    "df.head()"
   ]
  },
  {
   "cell_type": "markdown",
   "id": "ea156852",
   "metadata": {},
   "source": [
    "A continuación mostraremos los valores únicos de cada columna"
   ]
  },
  {
   "cell_type": "code",
   "execution_count": 9,
   "id": "cba70a96",
   "metadata": {
    "scrolled": false
   },
   "outputs": [
    {
     "name": "stdout",
     "output_type": "stream",
     "text": [
      "ID_USER: \t [   0    1    2 ... 3997 3998 3999]\n",
      "genero: \t ['F' nan 'M']\n",
      "monto: \t [608.3456335   88.71924289 790.0376533  ... 251.1898853   24.1826647\n",
      " 517.2092724 ]\n",
      "fecha: \t ['21/01/2020' '15/01/2020' '17/01/2020' '5/01/2020' '30/01/2020'\n",
      " '27/01/2020' '6/01/2020' '11/01/2020' '19/01/2020' '8/01/2020'\n",
      " '18/01/2020' '7/01/2020' '26/01/2020' '4/01/2020' '25/01/2020'\n",
      " '22/01/2020' '16/01/2020' '12/01/2020' '29/01/2020' '14/01/2020'\n",
      " '28/01/2020' '3/01/2020' '10/01/2020' '2/01/2020' '13/01/2020'\n",
      " '20/01/2020' '9/01/2020' '23/01/2020' '24/01/2020']\n",
      "hora: \t [20  7 11 10  3  2 13 14  6 16 22  8 19 12 15 23 17 18 21  4  9  5  1]\n",
      "establecimiento: \t ['Super' nan 'MPago' 'Abarrotes' 'Farmacia' 'Restaurante']\n",
      "ciudad: \t ['Merida' 'Guadalajara' 'Toluca' 'Monterrey' nan]\n",
      "tipo_tc: \t ['Física' 'Virtual']\n",
      "linea_tc: \t [71000 94000 55000 62000 83000 33000 39000 72000 76000 44000 81000 64000\n",
      " 34000 67000 87000 65000 28000 27000 99000 73000 63000 50000 46000 85000\n",
      " 52000 38000 84000 37000 30000 61000 89000 86000 35000 66000 25000 58000\n",
      " 41000 59000 60000 57000 97000 80000 69000 40000 49000 96000 91000 74000\n",
      " 43000 26000 93000 51000 98000 53000 88000 82000 42000 29000 32000 70000\n",
      " 31000 56000 45000 92000 54000 36000 77000 47000 90000 75000 68000 48000\n",
      " 78000 95000 79000]\n",
      "interes_tc: \t [51 56 57 34 37 54 55 58 45 42 48 35 43 46 49 40 62 32 38 64 44 50 52 47\n",
      " 53 41 59 63 60 61 33 39 36]\n",
      "status_txn: \t ['Aceptada' 'En proceso' 'Rechazada']\n",
      "is_prime: \t [False  True]\n",
      "dcto: \t [60.83456335  0.         33.45160168 ... 40.88975027 80.89577546\n",
      "  2.41826647]\n",
      "cashback: \t [ 5.4751107   1.77438486 15.80075307 ...  5.0237977   0.21764398\n",
      "  5.17209272]\n",
      "fraude: \t [False  True]\n",
      "dispositivo_model: \t [2020]\n",
      "dispositivo_puntaje: \t [3 1 2 4 5]\n",
      "dispositivo_os: \t ['ANDROID' 'unknown_category_1' 'WEB' 'unknown_category_2']\n"
     ]
    }
   ],
   "source": [
    "for col in df.drop(['date', 'dispositivo'], axis=1):\n",
    "    print(col + ': \\t', df[col].unique())"
   ]
  },
  {
   "cell_type": "markdown",
   "id": "ac38c125",
   "metadata": {},
   "source": [
    "Aqui cabe resaltar que existen valores númericos que representan categorias y no su valor perse, estos valores son:\n",
    "* linea_tc\n",
    "* interes_tc"
   ]
  },
  {
   "cell_type": "markdown",
   "id": "98085cf6",
   "metadata": {},
   "source": [
    "A continuación mostramos estadisticos basicos del dataframe"
   ]
  },
  {
   "cell_type": "code",
   "execution_count": 10,
   "id": "990000cc",
   "metadata": {},
   "outputs": [
    {
     "data": {
      "text/html": [
       "<div>\n",
       "<style scoped>\n",
       "    .dataframe tbody tr th:only-of-type {\n",
       "        vertical-align: middle;\n",
       "    }\n",
       "\n",
       "    .dataframe tbody tr th {\n",
       "        vertical-align: top;\n",
       "    }\n",
       "\n",
       "    .dataframe thead th {\n",
       "        text-align: right;\n",
       "    }\n",
       "</style>\n",
       "<table border=\"1\" class=\"dataframe\">\n",
       "  <thead>\n",
       "    <tr style=\"text-align: right;\">\n",
       "      <th></th>\n",
       "      <th>ID_USER</th>\n",
       "      <th>monto</th>\n",
       "      <th>hora</th>\n",
       "      <th>linea_tc</th>\n",
       "      <th>interes_tc</th>\n",
       "      <th>dcto</th>\n",
       "      <th>cashback</th>\n",
       "      <th>date</th>\n",
       "      <th>dispositivo_model</th>\n",
       "      <th>dispositivo_puntaje</th>\n",
       "    </tr>\n",
       "  </thead>\n",
       "  <tbody>\n",
       "    <tr>\n",
       "      <th>count</th>\n",
       "      <td>26975.000000</td>\n",
       "      <td>26975.000000</td>\n",
       "      <td>26975.000000</td>\n",
       "      <td>26975.000000</td>\n",
       "      <td>26975.000000</td>\n",
       "      <td>26975.000000</td>\n",
       "      <td>26975.000000</td>\n",
       "      <td>2.697500e+04</td>\n",
       "      <td>26975.0</td>\n",
       "      <td>26975.000000</td>\n",
       "    </tr>\n",
       "    <tr>\n",
       "      <th>mean</th>\n",
       "      <td>2003.765412</td>\n",
       "      <td>499.069493</td>\n",
       "      <td>11.987618</td>\n",
       "      <td>62476.811863</td>\n",
       "      <td>48.224875</td>\n",
       "      <td>17.466134</td>\n",
       "      <td>6.261186</td>\n",
       "      <td>1.579198e+09</td>\n",
       "      <td>2020.0</td>\n",
       "      <td>3.002595</td>\n",
       "    </tr>\n",
       "    <tr>\n",
       "      <th>std</th>\n",
       "      <td>1144.630736</td>\n",
       "      <td>289.309518</td>\n",
       "      <td>6.642565</td>\n",
       "      <td>21886.892902</td>\n",
       "      <td>9.587256</td>\n",
       "      <td>34.334566</td>\n",
       "      <td>4.458440</td>\n",
       "      <td>7.244758e+05</td>\n",
       "      <td>0.0</td>\n",
       "      <td>1.417432</td>\n",
       "    </tr>\n",
       "    <tr>\n",
       "      <th>min</th>\n",
       "      <td>0.000000</td>\n",
       "      <td>0.017303</td>\n",
       "      <td>1.000000</td>\n",
       "      <td>25000.000000</td>\n",
       "      <td>32.000000</td>\n",
       "      <td>0.000000</td>\n",
       "      <td>0.000138</td>\n",
       "      <td>1.577945e+09</td>\n",
       "      <td>2020.0</td>\n",
       "      <td>1.000000</td>\n",
       "    </tr>\n",
       "    <tr>\n",
       "      <th>25%</th>\n",
       "      <td>1041.000000</td>\n",
       "      <td>246.521227</td>\n",
       "      <td>6.000000</td>\n",
       "      <td>44000.000000</td>\n",
       "      <td>40.000000</td>\n",
       "      <td>0.000000</td>\n",
       "      <td>2.791740</td>\n",
       "      <td>1.578568e+09</td>\n",
       "      <td>2020.0</td>\n",
       "      <td>2.000000</td>\n",
       "    </tr>\n",
       "    <tr>\n",
       "      <th>50%</th>\n",
       "      <td>2006.000000</td>\n",
       "      <td>500.501022</td>\n",
       "      <td>12.000000</td>\n",
       "      <td>62000.000000</td>\n",
       "      <td>48.000000</td>\n",
       "      <td>0.000000</td>\n",
       "      <td>5.636711</td>\n",
       "      <td>1.579198e+09</td>\n",
       "      <td>2020.0</td>\n",
       "      <td>3.000000</td>\n",
       "    </tr>\n",
       "    <tr>\n",
       "      <th>75%</th>\n",
       "      <td>2973.500000</td>\n",
       "      <td>749.598192</td>\n",
       "      <td>18.000000</td>\n",
       "      <td>82000.000000</td>\n",
       "      <td>57.000000</td>\n",
       "      <td>18.770710</td>\n",
       "      <td>8.531604</td>\n",
       "      <td>1.579828e+09</td>\n",
       "      <td>2020.0</td>\n",
       "      <td>4.000000</td>\n",
       "    </tr>\n",
       "    <tr>\n",
       "      <th>max</th>\n",
       "      <td>3999.000000</td>\n",
       "      <td>999.917764</td>\n",
       "      <td>23.000000</td>\n",
       "      <td>99000.000000</td>\n",
       "      <td>64.000000</td>\n",
       "      <td>199.356251</td>\n",
       "      <td>19.991582</td>\n",
       "      <td>1.580443e+09</td>\n",
       "      <td>2020.0</td>\n",
       "      <td>5.000000</td>\n",
       "    </tr>\n",
       "  </tbody>\n",
       "</table>\n",
       "</div>"
      ],
      "text/plain": [
       "            ID_USER         monto          hora      linea_tc    interes_tc  \\\n",
       "count  26975.000000  26975.000000  26975.000000  26975.000000  26975.000000   \n",
       "mean    2003.765412    499.069493     11.987618  62476.811863     48.224875   \n",
       "std     1144.630736    289.309518      6.642565  21886.892902      9.587256   \n",
       "min        0.000000      0.017303      1.000000  25000.000000     32.000000   \n",
       "25%     1041.000000    246.521227      6.000000  44000.000000     40.000000   \n",
       "50%     2006.000000    500.501022     12.000000  62000.000000     48.000000   \n",
       "75%     2973.500000    749.598192     18.000000  82000.000000     57.000000   \n",
       "max     3999.000000    999.917764     23.000000  99000.000000     64.000000   \n",
       "\n",
       "               dcto      cashback          date  dispositivo_model  \\\n",
       "count  26975.000000  26975.000000  2.697500e+04            26975.0   \n",
       "mean      17.466134      6.261186  1.579198e+09             2020.0   \n",
       "std       34.334566      4.458440  7.244758e+05                0.0   \n",
       "min        0.000000      0.000138  1.577945e+09             2020.0   \n",
       "25%        0.000000      2.791740  1.578568e+09             2020.0   \n",
       "50%        0.000000      5.636711  1.579198e+09             2020.0   \n",
       "75%       18.770710      8.531604  1.579828e+09             2020.0   \n",
       "max      199.356251     19.991582  1.580443e+09             2020.0   \n",
       "\n",
       "       dispositivo_puntaje  \n",
       "count         26975.000000  \n",
       "mean              3.002595  \n",
       "std               1.417432  \n",
       "min               1.000000  \n",
       "25%               2.000000  \n",
       "50%               3.000000  \n",
       "75%               4.000000  \n",
       "max               5.000000  "
      ]
     },
     "execution_count": 10,
     "metadata": {},
     "output_type": "execute_result"
    }
   ],
   "source": [
    "df.describe()"
   ]
  },
  {
   "cell_type": "markdown",
   "id": "8b454b4d",
   "metadata": {},
   "source": [
    "* Existen 26975 filas en total.\n",
    "* Existen 4000 usuarios a pesar de haber casi 27000 filas\n",
    "* Monto: tiene un valor minimo de 0 y un valor máximo de 1000, lo interesante es como sus percentiles mantienen proporcion con los valores (25% ~ 250,  50% ~ 500 y 75% ~ 750)\n",
    "* Hora: sabemos que existen 24 horas por lo que la divison entre 4 daria una sexta parte lo cual mantiene proporcion con los percentiles (25% de 24 es 6 y es just el percentil 25%, 50% de 24 es 12 y es justo el percentil 50, y asi para el 75%)\n",
    "* El valor maximo de descuento es 200 y el minimo 0\n",
    "* Cashback (devolucion): Las devoluciones tienen una media de 6 lo cual es bajo y un valor máximo de 19.99\n",
    "* El modelo del dispositivo es un unico valor: 2020"
   ]
  },
  {
   "cell_type": "markdown",
   "id": "fbc2689f",
   "metadata": {},
   "source": [
    "Por la distribucion que se observa en el cuadro anterior no parece tener outliers en el monto pero de todas formas lo gráficaremos para estar seguros\n",
    "\n",
    "### Boxplot - Monto"
   ]
  },
  {
   "cell_type": "code",
   "execution_count": 25,
   "id": "94672cee",
   "metadata": {
    "scrolled": false
   },
   "outputs": [
    {
     "data": {
      "text/plain": [
       "<AxesSubplot:xlabel='fraude', ylabel='monto'>"
      ]
     },
     "execution_count": 25,
     "metadata": {},
     "output_type": "execute_result"
    },
    {
     "data": {
      "image/png": "[encoded data removed]",
      "text/plain": [
       "<Figure size 432x288 with 1 Axes>"
      ]
     },
     "metadata": {
      "needs_background": "light"
     },
     "output_type": "display_data"
    }
   ],
   "source": [
    "import seaborn as sns\n",
    "sns.boxplot(x=df.fraude, y=df['monto'])"
   ]
  },
  {
   "cell_type": "markdown",
   "id": "0bad1ba6",
   "metadata": {},
   "source": [
    "Sin embargo, para los casos de descuento (dcto) y devolucion (cashback) no necesariamente se aplica lo dicho para monto asi que observemos sus gráficas\n",
    "\n",
    "### Boxplot - cashback"
   ]
  },
  {
   "cell_type": "code",
   "execution_count": 16,
   "id": "145f4f4e",
   "metadata": {},
   "outputs": [
    {
     "data": {
      "text/plain": [
       "<AxesSubplot:xlabel='fraude', ylabel='cashback'>"
      ]
     },
     "execution_count": 16,
     "metadata": {},
     "output_type": "execute_result"
    },
    {
     "data": {
      "image/png": "[encoded data removed]",
      "text/plain": [
       "<Figure size 432x288 with 1 Axes>"
      ]
     },
     "metadata": {
      "needs_background": "light"
     },
     "output_type": "display_data"
    }
   ],
   "source": [
    "import seaborn as sns\n",
    "sns.boxplot(x=df.fraude, y=df['cashback'])"
   ]
  },
  {
   "cell_type": "markdown",
   "id": "5454498a",
   "metadata": {},
   "source": [
    "### Boxplot - descuento"
   ]
  },
  {
   "cell_type": "code",
   "execution_count": 17,
   "id": "245b20c7",
   "metadata": {
    "scrolled": true
   },
   "outputs": [
    {
     "data": {
      "text/plain": [
       "<AxesSubplot:xlabel='fraude', ylabel='dcto'>"
      ]
     },
     "execution_count": 17,
     "metadata": {},
     "output_type": "execute_result"
    },
    {
     "data": {
      "image/png": "[encoded data removed]",
      "text/plain": [
       "<Figure size 432x288 with 1 Axes>"
      ]
     },
     "metadata": {
      "needs_background": "light"
     },
     "output_type": "display_data"
    }
   ],
   "source": [
    "import seaborn as sns\n",
    "sns.boxplot(x= df.fraude, y=df['dcto'])"
   ]
  },
  {
   "cell_type": "markdown",
   "id": "be827746",
   "metadata": {},
   "source": [
    "Vemos que en ambos casos existen valores que no estan en la caja, eso a considerar más adelante en notebook Clasificacion"
   ]
  },
  {
   "cell_type": "markdown",
   "id": "be21a922",
   "metadata": {},
   "source": [
    "### Graficos de los párametros\n",
    "#### Estado de la transacción"
   ]
  },
  {
   "cell_type": "code",
   "execution_count": 11,
   "id": "82244f67",
   "metadata": {
    "scrolled": false
   },
   "outputs": [
    {
     "data": {
      "text/plain": [
       "Text(0, 0.5, 'Cantidad')"
      ]
     },
     "execution_count": 11,
     "metadata": {},
     "output_type": "execute_result"
    },
    {
     "data": {
      "image/png": "[encoded data removed]",
      "text/plain": [
       "<Figure size 432x288 with 1 Axes>"
      ]
     },
     "metadata": {
      "needs_background": "light"
     },
     "output_type": "display_data"
    }
   ],
   "source": [
    "sns.countplot(x = 'status_txn', data=df)\n",
    "plt.title('Estado de la transaccion', fontsize=14)\n",
    "plt.xlabel('')\n",
    "plt.ylabel('Cantidad')"
   ]
  },
  {
   "cell_type": "markdown",
   "id": "522f954d",
   "metadata": {},
   "source": [
    "Notamos que las transacciones de rechazadas son el grupo más pequeño en cantidad mientras que las aceptadas son el grupo con mayor cantidad"
   ]
  },
  {
   "cell_type": "markdown",
   "id": "a6935340",
   "metadata": {},
   "source": [
    "#### Prime"
   ]
  },
  {
   "cell_type": "code",
   "execution_count": 12,
   "id": "9e9219f6",
   "metadata": {
    "scrolled": false
   },
   "outputs": [
    {
     "data": {
      "text/plain": [
       "Text(0, 0.5, 'Cantidad')"
      ]
     },
     "execution_count": 12,
     "metadata": {},
     "output_type": "execute_result"
    },
    {
     "data": {
      "image/png": "[encoded data removed]",
      "text/plain": [
       "<Figure size 432x288 with 1 Axes>"
      ]
     },
     "metadata": {
      "needs_background": "light"
     },
     "output_type": "display_data"
    }
   ],
   "source": [
    "sns.countplot(x = 'is_prime', data=df)\n",
    "\n",
    "ticks_locations, _ = plt.xticks();\n",
    "labels = ['Si' if t else 'No' for t in ticks_locations]\n",
    "plt.xticks(ticks_locations, labels)\n",
    "plt.title('¿ Es prime ? ', fontsize=14)\n",
    "plt.xlabel('')\n",
    "plt.ylabel('Cantidad')"
   ]
  },
  {
   "cell_type": "markdown",
   "id": "319d4c46",
   "metadata": {},
   "source": [
    "'Es prime', categoriza la transacción por lo que una transacción pudo ser 'prime' o 'no': en este caso aproximadamente 4000 transacciones aproximadamente fueron prime mientras que casi 24000 no lo fueron."
   ]
  },
  {
   "cell_type": "markdown",
   "id": "83a1d469",
   "metadata": {},
   "source": [
    "#### Tipo de transacción"
   ]
  },
  {
   "cell_type": "code",
   "execution_count": 13,
   "id": "c56b96d8",
   "metadata": {
    "scrolled": true
   },
   "outputs": [
    {
     "data": {
      "text/plain": [
       "Text(0, 0.5, 'Cantidad')"
      ]
     },
     "execution_count": 13,
     "metadata": {},
     "output_type": "execute_result"
    },
    {
     "data": {
      "image/png": "[encoded data removed]",
      "text/plain": [
       "<Figure size 432x288 with 1 Axes>"
      ]
     },
     "metadata": {
      "needs_background": "light"
     },
     "output_type": "display_data"
    }
   ],
   "source": [
    "sns.countplot(x = 'tipo_tc', data=df)\n",
    "plt.title('Tipo de transacción (Compra Fisica vs Compra Virtual )', fontsize=14)\n",
    "plt.xlabel('')\n",
    "plt.ylabel('Cantidad')"
   ]
  },
  {
   "cell_type": "markdown",
   "id": "ed9255d9",
   "metadata": {},
   "source": [
    "#### Ciudad donde se realizó la transacción"
   ]
  },
  {
   "cell_type": "code",
   "execution_count": 14,
   "id": "22a4cd82",
   "metadata": {
    "scrolled": true
   },
   "outputs": [
    {
     "data": {
      "text/plain": [
       "Text(0, 0.5, 'Cantidad')"
      ]
     },
     "execution_count": 14,
     "metadata": {},
     "output_type": "execute_result"
    },
    {
     "data": {
      "image/png": "[encoded data removed]",
      "text/plain": [
       "<Figure size 432x288 with 1 Axes>"
      ]
     },
     "metadata": {
      "needs_background": "light"
     },
     "output_type": "display_data"
    }
   ],
   "source": [
    "sns.countplot(x = 'ciudad', data=df.fillna('Valor faltante'))\n",
    "plt.title('Ciudad donde se realizó la transacción', fontsize=14)\n",
    "plt.xlabel('')\n",
    "plt.ylabel('Cantidad')"
   ]
  },
  {
   "cell_type": "markdown",
   "id": "c64966d8",
   "metadata": {},
   "source": [
    "Notamos que los valores faltantes superan ampliamente a las categorias conocidas, sin embargo en la sección 'Completando missing values' notaremos que estos valores faltantes pueden ser llenados con una estrategia ya que siguen un patron en el dataset"
   ]
  },
  {
   "cell_type": "markdown",
   "id": "c9aea466",
   "metadata": {},
   "source": [
    "#### Género del comprado"
   ]
  },
  {
   "cell_type": "code",
   "execution_count": 15,
   "id": "e2bb4a88",
   "metadata": {
    "scrolled": true
   },
   "outputs": [
    {
     "data": {
      "text/plain": [
       "Text(0, 0.5, 'Cantidad')"
      ]
     },
     "execution_count": 15,
     "metadata": {},
     "output_type": "execute_result"
    },
    {
     "data": {
      "image/png": "[encoded data removed]",
      "text/plain": [
       "<Figure size 432x288 with 1 Axes>"
      ]
     },
     "metadata": {
      "needs_background": "light"
     },
     "output_type": "display_data"
    }
   ],
   "source": [
    "sns.countplot(x = 'genero', data=df.fillna('Valor Faltante'))\n",
    "\n",
    "plt.xticks(np.arange(3), (\"Mujer\", \"Valor Faltante\",\"Hombre\"))\n",
    "plt.title('Género del comprador', fontsize=14)\n",
    "plt.xlabel('')\n",
    "plt.ylabel('Cantidad')"
   ]
  },
  {
   "cell_type": "markdown",
   "id": "5e34aed3",
   "metadata": {},
   "source": [
    "En la sección 'Completando missing values' notaremos que estos valores faltantes pueden ser llenados con una estrategia ya que siguen un patron en el dataset"
   ]
  },
  {
   "cell_type": "markdown",
   "id": "5430ce3f",
   "metadata": {},
   "source": [
    "#### Lugar donde se generó transacción"
   ]
  },
  {
   "cell_type": "code",
   "execution_count": 96,
   "id": "312f7f35",
   "metadata": {
    "scrolled": false
   },
   "outputs": [
    {
     "data": {
      "text/plain": [
       "Text(0, 0.5, 'Cantidad')"
      ]
     },
     "execution_count": 96,
     "metadata": {},
     "output_type": "execute_result"
    },
    {
     "data": {
      "image/png": "[encoded data removed]",
      "text/plain": [
       "<Figure size 432x288 with 1 Axes>"
      ]
     },
     "metadata": {
      "needs_background": "light"
     },
     "output_type": "display_data"
    }
   ],
   "source": [
    "sns.countplot(x = 'establecimiento', data=df.fillna('Valor Faltante'))\n",
    "plt.title('Lugar donde se generó transacción', fontsize=14)\n",
    "plt.xlabel('')\n",
    "plt.ylabel('Cantidad')"
   ]
  },
  {
   "cell_type": "markdown",
   "id": "185b524c",
   "metadata": {},
   "source": [
    "En la sección 'Completando missing values' notaremos que estos valores faltantes pueden ser llenados con una estrategia ya que siguen un patron en el dataset"
   ]
  },
  {
   "cell_type": "markdown",
   "id": "70f13d59",
   "metadata": {},
   "source": [
    "#### Puntaje del dispositivo donde se generó la transacción "
   ]
  },
  {
   "cell_type": "code",
   "execution_count": 17,
   "id": "8f216e4e",
   "metadata": {
    "scrolled": true
   },
   "outputs": [
    {
     "data": {
      "text/plain": [
       "Text(0, 0.5, 'Cantidad')"
      ]
     },
     "execution_count": 17,
     "metadata": {},
     "output_type": "execute_result"
    },
    {
     "data": {
      "image/png": "[encoded data removed]",
      "text/plain": [
       "<Figure size 432x288 with 1 Axes>"
      ]
     },
     "metadata": {
      "needs_background": "light"
     },
     "output_type": "display_data"
    }
   ],
   "source": [
    "sns.countplot(x = 'dispositivo_puntaje', data=df)\n",
    "plt.title('Dispositivo_score', fontsize=14)\n",
    "plt.xlabel('')\n",
    "plt.ylabel('Cantidad')"
   ]
  },
  {
   "cell_type": "markdown",
   "id": "419bd2a6",
   "metadata": {},
   "source": [
    "Esta columna ('dispositivo_score') esta proporcionada muy equitativamente"
   ]
  },
  {
   "cell_type": "markdown",
   "id": "1b8f6658",
   "metadata": {},
   "source": [
    "#### Sistema operativo del dispositivo que generó la transacción"
   ]
  },
  {
   "cell_type": "code",
   "execution_count": 18,
   "id": "acc6ee35",
   "metadata": {},
   "outputs": [
    {
     "data": {
      "text/plain": [
       "Text(0, 0.5, 'Cantidad')"
      ]
     },
     "execution_count": 18,
     "metadata": {},
     "output_type": "execute_result"
    },
    {
     "data": {
      "image/png": "[encoded data removed]",
      "text/plain": [
       "<Figure size 432x288 with 1 Axes>"
      ]
     },
     "metadata": {
      "needs_background": "light"
     },
     "output_type": "display_data"
    }
   ],
   "source": [
    "sns.countplot(x = 'dispositivo_os', data=df.replace(',', 'Categoria desconocida 1').replace('%%', 'Categoria desconocida 2'))\n",
    "plt.title('Dispositivo Sistema Operativo', fontsize=14)\n",
    "plt.xlabel('')\n",
    "plt.ylabel('Cantidad')"
   ]
  },
  {
   "cell_type": "markdown",
   "id": "6d99aecb",
   "metadata": {},
   "source": [
    "A diferencia de un valor faltante el cual no tenemos ninguna información, aqui se tenia dos categorias\n",
    "cuyos nombres eran ',' y '%%' los cuales tenian un porcentaje muy similar a sus valores conocidos 'ANDROID' y 'WEB'\n",
    "por lo que se considero colocar dos nombres referenciales"
   ]
  },
  {
   "cell_type": "markdown",
   "id": "20855883",
   "metadata": {},
   "source": [
    "### Linea_tc"
   ]
  },
  {
   "cell_type": "code",
   "execution_count": 120,
   "id": "676a6ea0",
   "metadata": {},
   "outputs": [
    {
     "data": {
      "text/plain": [
       "Text(0, 0.5, 'Cantidad')"
      ]
     },
     "execution_count": 120,
     "metadata": {},
     "output_type": "execute_result"
    },
    {
     "data": {
      "image/png": "[encoded data removed]",
      "text/plain": [
       "<Figure size 432x288 with 1 Axes>"
      ]
     },
     "metadata": {
      "needs_background": "light"
     },
     "output_type": "display_data"
    }
   ],
   "source": [
    "sns.countplot(x = 'linea_tc', data=df.fillna('Valor faltante'))\n",
    "plt.title('Linea de transaccion', fontsize=14)\n",
    "plt.xticks(rotation=90)\n",
    "plt.xlabel('')\n",
    "plt.ylabel('Cantidad')"
   ]
  },
  {
   "cell_type": "markdown",
   "id": "eb6bcfb3",
   "metadata": {},
   "source": [
    "Observemos que este parámetro esta compuesto por varios valores los cuales entran en un rango de 300 y 500 hablando de frecuencia por lo que podemos inferir que sería una variable categórica"
   ]
  },
  {
   "cell_type": "markdown",
   "id": "72a82df2",
   "metadata": {},
   "source": [
    "### Interes_Tc"
   ]
  },
  {
   "cell_type": "code",
   "execution_count": 121,
   "id": "1e7c55e0",
   "metadata": {},
   "outputs": [
    {
     "data": {
      "text/plain": [
       "Text(0, 0.5, 'Cantidad')"
      ]
     },
     "execution_count": 121,
     "metadata": {},
     "output_type": "execute_result"
    },
    {
     "data": {
      "image/png": "[encoded data removed]",
      "text/plain": [
       "<Figure size 432x288 with 1 Axes>"
      ]
     },
     "metadata": {
      "needs_background": "light"
     },
     "output_type": "display_data"
    }
   ],
   "source": [
    "sns.countplot(x = 'interes_tc', data=df.fillna('Valor faltante'))\n",
    "plt.title('Interes de transaccion', fontsize=14)\n",
    "plt.xticks(rotation=90)\n",
    "plt.xlabel('')\n",
    "plt.ylabel('Cantidad')"
   ]
  },
  {
   "cell_type": "markdown",
   "id": "6c7559b1",
   "metadata": {},
   "source": [
    "Lo mismo que la variable linea_tc, estos valores tienen una frecuencia 'armonica' se presentan entre 600 y 900 por categoria y tan solo uno llega aproximadamente a 1200 de frecuencia, por lo tanto inferimos que es una variable categorica representada por códigos"
   ]
  },
  {
   "cell_type": "markdown",
   "id": "6a9556a6",
   "metadata": {},
   "source": [
    "### Cantidad de valores faltantes por columna"
   ]
  },
  {
   "cell_type": "code",
   "execution_count": 19,
   "id": "3a1c22d4",
   "metadata": {
    "scrolled": false
   },
   "outputs": [
    {
     "data": {
      "text/plain": [
       "Text(0.5, 1.0, 'Cantida de valores Faltantes en todas las columnas')"
      ]
     },
     "execution_count": 19,
     "metadata": {},
     "output_type": "execute_result"
    },
    {
     "data": {
      "image/png": "[encoded data removed]",
      "text/plain": [
       "<Figure size 432x288 with 1 Axes>"
      ]
     },
     "metadata": {
      "needs_background": "light"
     },
     "output_type": "display_data"
    }
   ],
   "source": [
    "df.isnull().sum().plot.bar(x='lab', y='val', rot=90)\n",
    "plt.title('Cantida de valores Faltantes en todas las columnas')"
   ]
  },
  {
   "cell_type": "markdown",
   "id": "1d09a4e2",
   "metadata": {},
   "source": [
    "En este dataset consideraremos 3 datasets con valores faltantes género, establecimiento y ciudad, las demás columnas contienen todos sus datos conocidos (o en el caso de dispositivo_os: se estableció dos categorias sin nombre en vez de considerarlas faltantes)"
   ]
  },
  {
   "cell_type": "markdown",
   "id": "8cfffb00",
   "metadata": {},
   "source": [
    "### Valor de interés: ¿ Hubo Fraude o No ?\n",
    "En estos problemas de fraude existen un problema conocido: el desbalance del dataset, ya que la cantidad de transacción que no es fraude supera enormemente la cantidad de transacción fraudulenta"
   ]
  },
  {
   "cell_type": "code",
   "execution_count": 20,
   "id": "ebd12242",
   "metadata": {
    "scrolled": true
   },
   "outputs": [
    {
     "data": {
      "text/plain": [
       "Text(0, 0.5, 'Cantidad')"
      ]
     },
     "execution_count": 20,
     "metadata": {},
     "output_type": "execute_result"
    },
    {
     "data": {
      "image/png": "[encoded data removed]",
      "text/plain": [
       "<Figure size 432x288 with 1 Axes>"
      ]
     },
     "metadata": {
      "needs_background": "light"
     },
     "output_type": "display_data"
    }
   ],
   "source": [
    "splot = sns.countplot(x = 'fraude', data=df)\n",
    "total = len(df)\n",
    "for p in splot.patches:\n",
    "    splot.annotate(format(p.get_height()/total * 100, '.4f') + '%', \n",
    "                   (p.get_x() + p.get_width() / 2., p.get_height()),\n",
    "                    ha = 'center', va = 'center', \n",
    "                   size=12,\n",
    "                   xytext = (0, 4), \n",
    "                   textcoords = 'offset points')\n",
    "    \n",
    "ticks_locations, _ = plt.xticks();\n",
    "labels = ['Si' if t else 'No' for t in ticks_locations]\n",
    "plt.xticks(ticks_locations, labels)\n",
    "plt.title('Data imbalanceada \\n (No Fraude vs Fraude)', fontsize=14)\n",
    "plt.xlabel('')\n",
    "plt.ylabel('Cantidad')"
   ]
  },
  {
   "cell_type": "code",
   "execution_count": 21,
   "id": "fe301535",
   "metadata": {
    "scrolled": true
   },
   "outputs": [
    {
     "name": "stdout",
     "output_type": "stream",
     "text": [
      "Fraude: 96.99721964782205 %\n",
      "No Fraude: 3.0027803521779424 %\n"
     ]
    }
   ],
   "source": [
    "print('Fraude: {} %'.format(df['fraude'].value_counts()[0] / len(df) * 100))\n",
    "print('No Fraude: {} %'.format(df['fraude'].value_counts()[1] / len(df) * 100))"
   ]
  },
  {
   "cell_type": "markdown",
   "id": "6cc12909",
   "metadata": {},
   "source": [
    "Notamos entonces 97% aproxidamente de transacciones validas y 3% de transacciones fraudulentas"
   ]
  },
  {
   "cell_type": "markdown",
   "id": "45b3d286",
   "metadata": {},
   "source": [
    "### Distribucciones de interés\n",
    "#### Distribución por la cantidad (monto) de la transacción"
   ]
  },
  {
   "cell_type": "code",
   "execution_count": 22,
   "id": "105250f4",
   "metadata": {
    "scrolled": false
   },
   "outputs": [
    {
     "name": "stderr",
     "output_type": "stream",
     "text": [
      "C:\\Users\\Nilton\\AppData\\Roaming\\Python\\Python38\\site-packages\\seaborn\\distributions.py:2619: FutureWarning: `distplot` is a deprecated function and will be removed in a future version. Please adapt your code to use either `displot` (a figure-level function with similar flexibility) or `histplot` (an axes-level function for histograms).\n",
      "  warnings.warn(msg, FutureWarning)\n"
     ]
    },
    {
     "data": {
      "text/plain": [
       "<AxesSubplot:ylabel='Density'>"
      ]
     },
     "execution_count": 22,
     "metadata": {},
     "output_type": "execute_result"
    },
    {
     "data": {
      "image/png": "[encoded data removed]",
      "text/plain": [
       "<Figure size 432x288 with 1 Axes>"
      ]
     },
     "metadata": {
      "needs_background": "light"
     },
     "output_type": "display_data"
    }
   ],
   "source": [
    "sns.distplot(x =  df['monto'].values)"
   ]
  },
  {
   "cell_type": "markdown",
   "id": "cbd637e6",
   "metadata": {},
   "source": [
    "Notamos que extrañamente se encuentra muy bien balanceada, es muy probable que esto se deba por fines del concurso, ya que data real extrañamente se encuentra datasets transaccionales con montos tan balanceados"
   ]
  },
  {
   "cell_type": "markdown",
   "id": "4967d186",
   "metadata": {},
   "source": [
    "#### Distribución por fecha de la transacción"
   ]
  },
  {
   "cell_type": "code",
   "execution_count": 23,
   "id": "a8a617fe",
   "metadata": {
    "scrolled": false
   },
   "outputs": [
    {
     "name": "stderr",
     "output_type": "stream",
     "text": [
      "C:\\Users\\Nilton\\AppData\\Roaming\\Python\\Python38\\site-packages\\seaborn\\distributions.py:2619: FutureWarning: `distplot` is a deprecated function and will be removed in a future version. Please adapt your code to use either `displot` (a figure-level function with similar flexibility) or `histplot` (an axes-level function for histograms).\n",
      "  warnings.warn(msg, FutureWarning)\n"
     ]
    },
    {
     "data": {
      "image/png": "[encoded data removed]",
      "text/plain": [
       "<Figure size 432x288 with 1 Axes>"
      ]
     },
     "metadata": {
      "needs_background": "light"
     },
     "output_type": "display_data"
    }
   ],
   "source": [
    "sns.distplot(x = df['date'].values)\n",
    "\n",
    "ticks_locations, _ = plt.xticks();\n",
    "labels = [datetime.fromtimestamp(int(t)).date() for t in ticks_locations]\n",
    "plt.xticks(ticks_locations, labels, rotation=90)\n",
    "plt.title(\"Distribución por fecha\");"
   ]
  },
  {
   "cell_type": "markdown",
   "id": "957f7454",
   "metadata": {},
   "source": [
    "Notamos que se encuentra muy bien distribuido, también cabe destacar que estas transacciones ocurren en el mes de enero del 2020, por lo que ahora se sabé que:\n",
    "\n",
    "Estos datos son transacciones de tarjeta de crédito los cuales contiene información escencial como donde se generó la transacción con que dispositivo a que hora, monto, descuento, devolución y si fue fraudulenta o no estos datos fueron recopilados por **UN mes (Enero del 2020) y de 4000 clientes**."
   ]
  },
  {
   "cell_type": "markdown",
   "id": "72eed761",
   "metadata": {},
   "source": [
    "### Visualizaciones de interés"
   ]
  },
  {
   "cell_type": "markdown",
   "id": "8cb57067",
   "metadata": {},
   "source": [
    "Veamos la media de todos los parámetros luego de agrupos por:\n",
    "\n",
    "#### Género"
   ]
  },
  {
   "cell_type": "code",
   "execution_count": 106,
   "id": "e4e03c3d",
   "metadata": {},
   "outputs": [
    {
     "data": {
      "text/html": [
       "<div>\n",
       "<style scoped>\n",
       "    .dataframe tbody tr th:only-of-type {\n",
       "        vertical-align: middle;\n",
       "    }\n",
       "\n",
       "    .dataframe tbody tr th {\n",
       "        vertical-align: top;\n",
       "    }\n",
       "\n",
       "    .dataframe thead th {\n",
       "        text-align: right;\n",
       "    }\n",
       "</style>\n",
       "<table border=\"1\" class=\"dataframe\">\n",
       "  <thead>\n",
       "    <tr style=\"text-align: right;\">\n",
       "      <th></th>\n",
       "      <th>monto</th>\n",
       "      <th>hora</th>\n",
       "      <th>linea_tc</th>\n",
       "      <th>interes_tc</th>\n",
       "      <th>is_prime</th>\n",
       "      <th>dcto</th>\n",
       "      <th>cashback</th>\n",
       "      <th>fraude</th>\n",
       "      <th>date</th>\n",
       "      <th>dispositivo_model</th>\n",
       "      <th>dispositivo_puntaje</th>\n",
       "    </tr>\n",
       "    <tr>\n",
       "      <th>genero</th>\n",
       "      <th></th>\n",
       "      <th></th>\n",
       "      <th></th>\n",
       "      <th></th>\n",
       "      <th></th>\n",
       "      <th></th>\n",
       "      <th></th>\n",
       "      <th></th>\n",
       "      <th></th>\n",
       "      <th></th>\n",
       "      <th></th>\n",
       "    </tr>\n",
       "  </thead>\n",
       "  <tbody>\n",
       "    <tr>\n",
       "      <th>F</th>\n",
       "      <td>500.274270</td>\n",
       "      <td>11.935577</td>\n",
       "      <td>61783.703151</td>\n",
       "      <td>47.977158</td>\n",
       "      <td>0.128659</td>\n",
       "      <td>17.295114</td>\n",
       "      <td>6.265238</td>\n",
       "      <td>0.031139</td>\n",
       "      <td>1.579202e+09</td>\n",
       "      <td>2020.0</td>\n",
       "      <td>2.990490</td>\n",
       "    </tr>\n",
       "    <tr>\n",
       "      <th>M</th>\n",
       "      <td>498.217103</td>\n",
       "      <td>11.967749</td>\n",
       "      <td>62881.278201</td>\n",
       "      <td>48.477698</td>\n",
       "      <td>0.138620</td>\n",
       "      <td>17.309950</td>\n",
       "      <td>6.266999</td>\n",
       "      <td>0.028700</td>\n",
       "      <td>1.579193e+09</td>\n",
       "      <td>2020.0</td>\n",
       "      <td>3.008507</td>\n",
       "    </tr>\n",
       "  </tbody>\n",
       "</table>\n",
       "</div>"
      ],
      "text/plain": [
       "             monto       hora      linea_tc  interes_tc  is_prime       dcto  \\\n",
       "genero                                                                         \n",
       "F       500.274270  11.935577  61783.703151   47.977158  0.128659  17.295114   \n",
       "M       498.217103  11.967749  62881.278201   48.477698  0.138620  17.309950   \n",
       "\n",
       "        cashback    fraude          date  dispositivo_model  \\\n",
       "genero                                                        \n",
       "F       6.265238  0.031139  1.579202e+09             2020.0   \n",
       "M       6.266999  0.028700  1.579193e+09             2020.0   \n",
       "\n",
       "        dispositivo_puntaje  \n",
       "genero                       \n",
       "F                  2.990490  \n",
       "M                  3.008507  "
      ]
     },
     "execution_count": 106,
     "metadata": {},
     "output_type": "execute_result"
    }
   ],
   "source": [
    "df.drop(['ID_USER'], axis=1).groupby('genero').mean()"
   ]
  },
  {
   "cell_type": "markdown",
   "id": "49b4d5d5",
   "metadata": {},
   "source": [
    "Observamos:\n",
    " - Las mujeres en promedio consumen un poco más (2 puntos aproximadamente)\n",
    " - Las compras de hombres y mujeres se dan casi al medio dia (muy posiblmente por el dataset bastante equitativo en este parámetro)\n",
    " - El fraude se origino ligeramente más en el género F (Female o Mujer)\n",
    "    "
   ]
  },
  {
   "cell_type": "markdown",
   "id": "c4f3d7d5",
   "metadata": {},
   "source": [
    "#### Establecimiento\n"
   ]
  },
  {
   "cell_type": "code",
   "execution_count": 107,
   "id": "6da092a5",
   "metadata": {},
   "outputs": [
    {
     "data": {
      "text/html": [
       "<div>\n",
       "<style scoped>\n",
       "    .dataframe tbody tr th:only-of-type {\n",
       "        vertical-align: middle;\n",
       "    }\n",
       "\n",
       "    .dataframe tbody tr th {\n",
       "        vertical-align: top;\n",
       "    }\n",
       "\n",
       "    .dataframe thead th {\n",
       "        text-align: right;\n",
       "    }\n",
       "</style>\n",
       "<table border=\"1\" class=\"dataframe\">\n",
       "  <thead>\n",
       "    <tr style=\"text-align: right;\">\n",
       "      <th></th>\n",
       "      <th>monto</th>\n",
       "      <th>hora</th>\n",
       "      <th>linea_tc</th>\n",
       "      <th>interes_tc</th>\n",
       "      <th>is_prime</th>\n",
       "      <th>dcto</th>\n",
       "      <th>cashback</th>\n",
       "      <th>fraude</th>\n",
       "      <th>date</th>\n",
       "      <th>dispositivo_model</th>\n",
       "      <th>dispositivo_puntaje</th>\n",
       "    </tr>\n",
       "    <tr>\n",
       "      <th>establecimiento</th>\n",
       "      <th></th>\n",
       "      <th></th>\n",
       "      <th></th>\n",
       "      <th></th>\n",
       "      <th></th>\n",
       "      <th></th>\n",
       "      <th></th>\n",
       "      <th></th>\n",
       "      <th></th>\n",
       "      <th></th>\n",
       "      <th></th>\n",
       "    </tr>\n",
       "  </thead>\n",
       "  <tbody>\n",
       "    <tr>\n",
       "      <th>Abarrotes</th>\n",
       "      <td>500.365394</td>\n",
       "      <td>11.962811</td>\n",
       "      <td>62359.882870</td>\n",
       "      <td>48.303367</td>\n",
       "      <td>0.125622</td>\n",
       "      <td>17.167221</td>\n",
       "      <td>6.159385</td>\n",
       "      <td>0.029868</td>\n",
       "      <td>1.579191e+09</td>\n",
       "      <td>2020.0</td>\n",
       "      <td>2.973646</td>\n",
       "    </tr>\n",
       "    <tr>\n",
       "      <th>Farmacia</th>\n",
       "      <td>498.515665</td>\n",
       "      <td>11.905305</td>\n",
       "      <td>62704.503393</td>\n",
       "      <td>48.204503</td>\n",
       "      <td>0.127082</td>\n",
       "      <td>17.864013</td>\n",
       "      <td>6.236934</td>\n",
       "      <td>0.028378</td>\n",
       "      <td>1.579210e+09</td>\n",
       "      <td>2020.0</td>\n",
       "      <td>3.006786</td>\n",
       "    </tr>\n",
       "    <tr>\n",
       "      <th>MPago</th>\n",
       "      <td>501.332814</td>\n",
       "      <td>12.097816</td>\n",
       "      <td>61935.088244</td>\n",
       "      <td>48.130123</td>\n",
       "      <td>0.142686</td>\n",
       "      <td>16.791104</td>\n",
       "      <td>6.253694</td>\n",
       "      <td>0.031110</td>\n",
       "      <td>1.579222e+09</td>\n",
       "      <td>2020.0</td>\n",
       "      <td>3.022435</td>\n",
       "    </tr>\n",
       "    <tr>\n",
       "      <th>Restaurante</th>\n",
       "      <td>497.760850</td>\n",
       "      <td>11.953677</td>\n",
       "      <td>62583.960625</td>\n",
       "      <td>48.150550</td>\n",
       "      <td>0.138680</td>\n",
       "      <td>17.643108</td>\n",
       "      <td>6.279409</td>\n",
       "      <td>0.026925</td>\n",
       "      <td>1.579193e+09</td>\n",
       "      <td>2020.0</td>\n",
       "      <td>2.981181</td>\n",
       "    </tr>\n",
       "    <tr>\n",
       "      <th>Super</th>\n",
       "      <td>490.855773</td>\n",
       "      <td>12.019106</td>\n",
       "      <td>61816.578483</td>\n",
       "      <td>48.081129</td>\n",
       "      <td>0.128160</td>\n",
       "      <td>17.711514</td>\n",
       "      <td>6.159535</td>\n",
       "      <td>0.029982</td>\n",
       "      <td>1.579198e+09</td>\n",
       "      <td>2020.0</td>\n",
       "      <td>3.035861</td>\n",
       "    </tr>\n",
       "  </tbody>\n",
       "</table>\n",
       "</div>"
      ],
      "text/plain": [
       "                      monto       hora      linea_tc  interes_tc  is_prime  \\\n",
       "establecimiento                                                              \n",
       "Abarrotes        500.365394  11.962811  62359.882870   48.303367  0.125622   \n",
       "Farmacia         498.515665  11.905305  62704.503393   48.204503  0.127082   \n",
       "MPago            501.332814  12.097816  61935.088244   48.130123  0.142686   \n",
       "Restaurante      497.760850  11.953677  62583.960625   48.150550  0.138680   \n",
       "Super            490.855773  12.019106  61816.578483   48.081129  0.128160   \n",
       "\n",
       "                      dcto  cashback    fraude          date  \\\n",
       "establecimiento                                                \n",
       "Abarrotes        17.167221  6.159385  0.029868  1.579191e+09   \n",
       "Farmacia         17.864013  6.236934  0.028378  1.579210e+09   \n",
       "MPago            16.791104  6.253694  0.031110  1.579222e+09   \n",
       "Restaurante      17.643108  6.279409  0.026925  1.579193e+09   \n",
       "Super            17.711514  6.159535  0.029982  1.579198e+09   \n",
       "\n",
       "                 dispositivo_model  dispositivo_puntaje  \n",
       "establecimiento                                          \n",
       "Abarrotes                   2020.0             2.973646  \n",
       "Farmacia                    2020.0             3.006786  \n",
       "MPago                       2020.0             3.022435  \n",
       "Restaurante                 2020.0             2.981181  \n",
       "Super                       2020.0             3.035861  "
      ]
     },
     "execution_count": 107,
     "metadata": {},
     "output_type": "execute_result"
    }
   ],
   "source": [
    "df.drop(['ID_USER'], axis=1).groupby('establecimiento').mean()"
   ]
  },
  {
   "cell_type": "markdown",
   "id": "5a7a4838",
   "metadata": {},
   "source": [
    "Observamos:\n",
    "  - El monto es muy similar en todos los tiplos de establecimiento.\n",
    "  - El Fraude se da ligeramente más por MPago (mercado pago)\n",
    "  - Asi mismo existe menos descuento en MPago\n",
    "  - La devolución (cashback) es muy similar en todos los tipos de establecimiento\n",
    "  "
   ]
  },
  {
   "cell_type": "markdown",
   "id": "2e5d1902",
   "metadata": {},
   "source": [
    "#### Ciudad"
   ]
  },
  {
   "cell_type": "code",
   "execution_count": 108,
   "id": "91918813",
   "metadata": {},
   "outputs": [
    {
     "data": {
      "text/html": [
       "<div>\n",
       "<style scoped>\n",
       "    .dataframe tbody tr th:only-of-type {\n",
       "        vertical-align: middle;\n",
       "    }\n",
       "\n",
       "    .dataframe tbody tr th {\n",
       "        vertical-align: top;\n",
       "    }\n",
       "\n",
       "    .dataframe thead th {\n",
       "        text-align: right;\n",
       "    }\n",
       "</style>\n",
       "<table border=\"1\" class=\"dataframe\">\n",
       "  <thead>\n",
       "    <tr style=\"text-align: right;\">\n",
       "      <th></th>\n",
       "      <th>monto</th>\n",
       "      <th>hora</th>\n",
       "      <th>linea_tc</th>\n",
       "      <th>interes_tc</th>\n",
       "      <th>is_prime</th>\n",
       "      <th>dcto</th>\n",
       "      <th>cashback</th>\n",
       "      <th>fraude</th>\n",
       "      <th>date</th>\n",
       "      <th>dispositivo_model</th>\n",
       "      <th>dispositivo_puntaje</th>\n",
       "    </tr>\n",
       "    <tr>\n",
       "      <th>ciudad</th>\n",
       "      <th></th>\n",
       "      <th></th>\n",
       "      <th></th>\n",
       "      <th></th>\n",
       "      <th></th>\n",
       "      <th></th>\n",
       "      <th></th>\n",
       "      <th></th>\n",
       "      <th></th>\n",
       "      <th></th>\n",
       "      <th></th>\n",
       "    </tr>\n",
       "  </thead>\n",
       "  <tbody>\n",
       "    <tr>\n",
       "      <th>Guadalajara</th>\n",
       "      <td>495.541946</td>\n",
       "      <td>12.041743</td>\n",
       "      <td>61391.860162</td>\n",
       "      <td>48.543699</td>\n",
       "      <td>0.148969</td>\n",
       "      <td>17.813352</td>\n",
       "      <td>6.180063</td>\n",
       "      <td>0.030785</td>\n",
       "      <td>1.579198e+09</td>\n",
       "      <td>2020.0</td>\n",
       "      <td>3.017480</td>\n",
       "    </tr>\n",
       "    <tr>\n",
       "      <th>Merida</th>\n",
       "      <td>501.375245</td>\n",
       "      <td>12.115927</td>\n",
       "      <td>63547.992555</td>\n",
       "      <td>48.117256</td>\n",
       "      <td>0.135070</td>\n",
       "      <td>17.964757</td>\n",
       "      <td>6.291961</td>\n",
       "      <td>0.031906</td>\n",
       "      <td>1.579185e+09</td>\n",
       "      <td>2020.0</td>\n",
       "      <td>3.042010</td>\n",
       "    </tr>\n",
       "    <tr>\n",
       "      <th>Monterrey</th>\n",
       "      <td>496.426942</td>\n",
       "      <td>11.926606</td>\n",
       "      <td>61177.549919</td>\n",
       "      <td>48.850513</td>\n",
       "      <td>0.126552</td>\n",
       "      <td>18.649250</td>\n",
       "      <td>6.241854</td>\n",
       "      <td>0.026983</td>\n",
       "      <td>1.579199e+09</td>\n",
       "      <td>2020.0</td>\n",
       "      <td>3.022666</td>\n",
       "    </tr>\n",
       "    <tr>\n",
       "      <th>Toluca</th>\n",
       "      <td>501.578424</td>\n",
       "      <td>11.856642</td>\n",
       "      <td>63456.592444</td>\n",
       "      <td>47.812109</td>\n",
       "      <td>0.132099</td>\n",
       "      <td>17.269010</td>\n",
       "      <td>6.262216</td>\n",
       "      <td>0.029522</td>\n",
       "      <td>1.579209e+09</td>\n",
       "      <td>2020.0</td>\n",
       "      <td>2.984739</td>\n",
       "    </tr>\n",
       "  </tbody>\n",
       "</table>\n",
       "</div>"
      ],
      "text/plain": [
       "                  monto       hora      linea_tc  interes_tc  is_prime  \\\n",
       "ciudad                                                                   \n",
       "Guadalajara  495.541946  12.041743  61391.860162   48.543699  0.148969   \n",
       "Merida       501.375245  12.115927  63547.992555   48.117256  0.135070   \n",
       "Monterrey    496.426942  11.926606  61177.549919   48.850513  0.126552   \n",
       "Toluca       501.578424  11.856642  63456.592444   47.812109  0.132099   \n",
       "\n",
       "                  dcto  cashback    fraude          date  dispositivo_model  \\\n",
       "ciudad                                                                        \n",
       "Guadalajara  17.813352  6.180063  0.030785  1.579198e+09             2020.0   \n",
       "Merida       17.964757  6.291961  0.031906  1.579185e+09             2020.0   \n",
       "Monterrey    18.649250  6.241854  0.026983  1.579199e+09             2020.0   \n",
       "Toluca       17.269010  6.262216  0.029522  1.579209e+09             2020.0   \n",
       "\n",
       "             dispositivo_puntaje  \n",
       "ciudad                            \n",
       "Guadalajara             3.017480  \n",
       "Merida                  3.042010  \n",
       "Monterrey               3.022666  \n",
       "Toluca                  2.984739  "
      ]
     },
     "execution_count": 108,
     "metadata": {},
     "output_type": "execute_result"
    }
   ],
   "source": [
    "df.drop(['ID_USER'], axis=1).groupby('ciudad').mean()"
   ]
  },
  {
   "cell_type": "markdown",
   "id": "c97587ee",
   "metadata": {},
   "source": [
    "Observamos:\n",
    "  - Podemos decir que ligeramente es más el fraude en Guadalajara y Mérida\n",
    "  - Existe un poco más de descuento en Monterrey\n",
    "  - Monto, hora y cashback se mantienen igual que en las observaciones anteriores con valores muy equitativos"
   ]
  },
  {
   "cell_type": "markdown",
   "id": "98713c2b",
   "metadata": {},
   "source": [
    "#### Sistema operativo de dispositivos"
   ]
  },
  {
   "cell_type": "code",
   "execution_count": 109,
   "id": "5b1e8ad1",
   "metadata": {},
   "outputs": [
    {
     "data": {
      "text/html": [
       "<div>\n",
       "<style scoped>\n",
       "    .dataframe tbody tr th:only-of-type {\n",
       "        vertical-align: middle;\n",
       "    }\n",
       "\n",
       "    .dataframe tbody tr th {\n",
       "        vertical-align: top;\n",
       "    }\n",
       "\n",
       "    .dataframe thead th {\n",
       "        text-align: right;\n",
       "    }\n",
       "</style>\n",
       "<table border=\"1\" class=\"dataframe\">\n",
       "  <thead>\n",
       "    <tr style=\"text-align: right;\">\n",
       "      <th></th>\n",
       "      <th>monto</th>\n",
       "      <th>hora</th>\n",
       "      <th>linea_tc</th>\n",
       "      <th>interes_tc</th>\n",
       "      <th>is_prime</th>\n",
       "      <th>dcto</th>\n",
       "      <th>cashback</th>\n",
       "      <th>fraude</th>\n",
       "      <th>date</th>\n",
       "      <th>dispositivo_model</th>\n",
       "      <th>dispositivo_puntaje</th>\n",
       "    </tr>\n",
       "    <tr>\n",
       "      <th>dispositivo_os</th>\n",
       "      <th></th>\n",
       "      <th></th>\n",
       "      <th></th>\n",
       "      <th></th>\n",
       "      <th></th>\n",
       "      <th></th>\n",
       "      <th></th>\n",
       "      <th></th>\n",
       "      <th></th>\n",
       "      <th></th>\n",
       "      <th></th>\n",
       "    </tr>\n",
       "  </thead>\n",
       "  <tbody>\n",
       "    <tr>\n",
       "      <th>ANDROID</th>\n",
       "      <td>493.998728</td>\n",
       "      <td>11.902034</td>\n",
       "      <td>62163.924619</td>\n",
       "      <td>48.242447</td>\n",
       "      <td>0.130571</td>\n",
       "      <td>17.705351</td>\n",
       "      <td>6.178529</td>\n",
       "      <td>0.032306</td>\n",
       "      <td>1.579196e+09</td>\n",
       "      <td>2020.0</td>\n",
       "      <td>3.011068</td>\n",
       "    </tr>\n",
       "    <tr>\n",
       "      <th>WEB</th>\n",
       "      <td>500.652409</td>\n",
       "      <td>11.860479</td>\n",
       "      <td>62374.815253</td>\n",
       "      <td>48.249926</td>\n",
       "      <td>0.133166</td>\n",
       "      <td>17.047568</td>\n",
       "      <td>6.281364</td>\n",
       "      <td>0.027934</td>\n",
       "      <td>1.579201e+09</td>\n",
       "      <td>2020.0</td>\n",
       "      <td>2.996157</td>\n",
       "    </tr>\n",
       "    <tr>\n",
       "      <th>unknown_category_1</th>\n",
       "      <td>502.383122</td>\n",
       "      <td>12.147431</td>\n",
       "      <td>62638.719285</td>\n",
       "      <td>48.302904</td>\n",
       "      <td>0.136113</td>\n",
       "      <td>17.805684</td>\n",
       "      <td>6.319015</td>\n",
       "      <td>0.028593</td>\n",
       "      <td>1.579209e+09</td>\n",
       "      <td>2020.0</td>\n",
       "      <td>2.999255</td>\n",
       "    </tr>\n",
       "    <tr>\n",
       "      <th>unknown_category_2</th>\n",
       "      <td>499.207875</td>\n",
       "      <td>12.040394</td>\n",
       "      <td>62725.763807</td>\n",
       "      <td>48.105758</td>\n",
       "      <td>0.127938</td>\n",
       "      <td>17.312277</td>\n",
       "      <td>6.265267</td>\n",
       "      <td>0.031287</td>\n",
       "      <td>1.579185e+09</td>\n",
       "      <td>2020.0</td>\n",
       "      <td>3.003966</td>\n",
       "    </tr>\n",
       "  </tbody>\n",
       "</table>\n",
       "</div>"
      ],
      "text/plain": [
       "                         monto       hora      linea_tc  interes_tc  is_prime  \\\n",
       "dispositivo_os                                                                  \n",
       "ANDROID             493.998728  11.902034  62163.924619   48.242447  0.130571   \n",
       "WEB                 500.652409  11.860479  62374.815253   48.249926  0.133166   \n",
       "unknown_category_1  502.383122  12.147431  62638.719285   48.302904  0.136113   \n",
       "unknown_category_2  499.207875  12.040394  62725.763807   48.105758  0.127938   \n",
       "\n",
       "                         dcto  cashback    fraude          date  \\\n",
       "dispositivo_os                                                    \n",
       "ANDROID             17.705351  6.178529  0.032306  1.579196e+09   \n",
       "WEB                 17.047568  6.281364  0.027934  1.579201e+09   \n",
       "unknown_category_1  17.805684  6.319015  0.028593  1.579209e+09   \n",
       "unknown_category_2  17.312277  6.265267  0.031287  1.579185e+09   \n",
       "\n",
       "                    dispositivo_model  dispositivo_puntaje  \n",
       "dispositivo_os                                              \n",
       "ANDROID                        2020.0             3.011068  \n",
       "WEB                            2020.0             2.996157  \n",
       "unknown_category_1             2020.0             2.999255  \n",
       "unknown_category_2             2020.0             3.003966  "
      ]
     },
     "execution_count": 109,
     "metadata": {},
     "output_type": "execute_result"
    }
   ],
   "source": [
    "df.drop(['ID_USER'], axis=1).groupby('dispositivo_os').mean()"
   ]
  },
  {
   "cell_type": "markdown",
   "id": "20d1e032",
   "metadata": {},
   "source": [
    "Observamos:\n",
    "  - ligeramente se da mayor fraude en Android y en la categoria desconocida 2"
   ]
  },
  {
   "cell_type": "markdown",
   "id": "c3c2c2d0",
   "metadata": {},
   "source": [
    "### Podemos ver los códigos más repetitivo (linea_tc y interes_tc) por tipo de transaccion"
   ]
  },
  {
   "cell_type": "code",
   "execution_count": 124,
   "id": "6a3ab76a",
   "metadata": {},
   "outputs": [
    {
     "data": {
      "text/html": [
       "<div>\n",
       "<style scoped>\n",
       "    .dataframe tbody tr th:only-of-type {\n",
       "        vertical-align: middle;\n",
       "    }\n",
       "\n",
       "    .dataframe tbody tr th {\n",
       "        vertical-align: top;\n",
       "    }\n",
       "\n",
       "    .dataframe thead th {\n",
       "        text-align: right;\n",
       "    }\n",
       "</style>\n",
       "<table border=\"1\" class=\"dataframe\">\n",
       "  <thead>\n",
       "    <tr style=\"text-align: right;\">\n",
       "      <th></th>\n",
       "      <th>linea_tc</th>\n",
       "      <th>interes_tc</th>\n",
       "    </tr>\n",
       "    <tr>\n",
       "      <th>tipo_tc</th>\n",
       "      <th></th>\n",
       "      <th></th>\n",
       "    </tr>\n",
       "  </thead>\n",
       "  <tbody>\n",
       "    <tr>\n",
       "      <th>Física</th>\n",
       "      <td>87000</td>\n",
       "      <td>58</td>\n",
       "    </tr>\n",
       "    <tr>\n",
       "      <th>Virtual</th>\n",
       "      <td>91000</td>\n",
       "      <td>58</td>\n",
       "    </tr>\n",
       "  </tbody>\n",
       "</table>\n",
       "</div>"
      ],
      "text/plain": [
       "         linea_tc  interes_tc\n",
       "tipo_tc                      \n",
       "Física      87000          58\n",
       "Virtual     91000          58"
      ]
     },
     "execution_count": 124,
     "metadata": {},
     "output_type": "execute_result"
    }
   ],
   "source": [
    "df.drop(['ID_USER'], axis=1).groupby('tipo_tc').agg({'linea_tc': lambda x: x.mode(), 'interes_tc': lambda x: x.mode()})"
   ]
  },
  {
   "cell_type": "markdown",
   "id": "03e5a9a7",
   "metadata": {},
   "source": [
    "Observamos que:\n",
    "  - En las transacciones físicas tenemos de uso más frecuente la linea 87000 y el interes 58.\n",
    "  - En las transacciones virtuales tenemos de uso más frecuente la linea 9100 y el interes 58 también."
   ]
  },
  {
   "cell_type": "markdown",
   "id": "1a01e64e",
   "metadata": {},
   "source": [
    "### Frecuencias por fraude\n",
    "\n",
    "#### Tipo de transaccion"
   ]
  },
  {
   "cell_type": "code",
   "execution_count": 125,
   "id": "4cac2be6",
   "metadata": {},
   "outputs": [
    {
     "data": {
      "image/png": "[encoded data removed]",
      "text/plain": [
       "<Figure size 432x288 with 1 Axes>"
      ]
     },
     "metadata": {
      "needs_background": "light"
     },
     "output_type": "display_data"
    }
   ],
   "source": [
    "%matplotlib inline\n",
    "pd.crosstab(df.tipo_tc,df.fraude).plot(kind='bar')\n",
    "plt.xlabel('Tipo transaccion')\n",
    "plt.ylabel('Frecuencia de fraude')\n",
    "plt.show()"
   ]
  },
  {
   "cell_type": "markdown",
   "id": "bd4535c4",
   "metadata": {},
   "source": [
    "Aqui podemos observar como el fraude se da ligeramente más en las transacciones fisicas que en las virtuales (True = Si fraude)\n",
    "\n",
    "#### Establecimiento"
   ]
  },
  {
   "cell_type": "code",
   "execution_count": 131,
   "id": "73b9aa0e",
   "metadata": {},
   "outputs": [
    {
     "data": {
      "text/plain": [
       "Text(0, 0.5, 'Proporcion fraude - no fraude')"
      ]
     },
     "execution_count": 131,
     "metadata": {},
     "output_type": "execute_result"
    },
    {
     "data": {
      "image/png": "[encoded data removed]",
      "text/plain": [
       "<Figure size 432x288 with 1 Axes>"
      ]
     },
     "metadata": {
      "needs_background": "light"
     },
     "output_type": "display_data"
    }
   ],
   "source": [
    "table=pd.crosstab(df.establecimiento,df.fraude)\n",
    "table.div(table.sum(1).astype(float), axis=0).plot(kind='bar', stacked=True)\n",
    "plt.title('Stacked Bar Chart de fraude por establecimientos')\n",
    "plt.xlabel('Establecimientos')\n",
    "plt.ylabel('Proporcion fraude - no fraude')"
   ]
  },
  {
   "cell_type": "markdown",
   "id": "5057815f",
   "metadata": {},
   "source": [
    "Sorprendentemente el fraude en cada establecimiento es el mismo o bastante similar para cada uno de estos (posiblemente por el challengue esto fue extraido asi), esto tambien se ve por ciudades como veremos a continuación..."
   ]
  },
  {
   "cell_type": "code",
   "execution_count": 129,
   "id": "eb913f4e",
   "metadata": {},
   "outputs": [
    {
     "data": {
      "text/plain": [
       "Text(0.5, 0, 'Establecimientos')"
      ]
     },
     "execution_count": 129,
     "metadata": {},
     "output_type": "execute_result"
    },
    {
     "data": {
      "image/png": "[encoded data removed]",
      "text/plain": [
       "<Figure size 432x288 with 1 Axes>"
      ]
     },
     "metadata": {
      "needs_background": "light"
     },
     "output_type": "display_data"
    }
   ],
   "source": [
    "table=pd.crosstab(df.ciudad,df.fraude)\n",
    "table.div(table.sum(1).astype(float), axis=0).plot(kind='bar', stacked=True)\n",
    "plt.title('Stacked Bar Chart de fraude por ciudad')\n",
    "plt.ylabel('Proporcion fraude - no fraude')\n",
    "plt.xlabel('Establecimientos')"
   ]
  },
  {
   "cell_type": "markdown",
   "id": "0cb3329e",
   "metadata": {},
   "source": [
    "####  Completando missing values en siguiente notebook (Clasificacion.ipynb)"
   ]
  }
 ],
 "metadata": {
  "kernelspec": {
   "display_name": "Python 3 (ipykernel)",
   "language": "python",
   "name": "python3"
  },
  "language_info": {
   "codemirror_mode": {
    "name": "ipython",
    "version": 3
   },
   "file_extension": ".py",
   "mimetype": "text/x-python",
   "name": "python",
   "nbconvert_exporter": "python",
   "pygments_lexer": "ipython3",
   "version": "3.8.8"
  }
 },
 "nbformat": 4,
 "nbformat_minor": 5
}
