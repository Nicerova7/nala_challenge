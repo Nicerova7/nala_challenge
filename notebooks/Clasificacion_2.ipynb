{
 "cells": [
  {
   "cell_type": "code",
   "execution_count": 111,
   "id": "e8c9d16a",
   "metadata": {},
   "outputs": [],
   "source": [
    "from datetime import datetime\n",
    "import pandas as pd\n",
    "import seaborn as sns\n",
    "import numpy as np\n",
    "import json\n",
    "import matplotlib.pyplot as plt\n",
    "\n",
    "from sklearn.preprocessing import StandardScaler, RobustScaler\n",
    "from sklearn.cluster import KMeans"
   ]
  },
  {
   "cell_type": "code",
   "execution_count": 112,
   "id": "556b2e07",
   "metadata": {},
   "outputs": [],
   "source": [
    "df = pd.read_csv('DS Challenge.csv', sep=';', encoding='utf8')"
   ]
  },
  {
   "cell_type": "code",
   "execution_count": 113,
   "id": "07d981ad",
   "metadata": {},
   "outputs": [],
   "source": [
    "df['cashback'] = df['cashback'].str.replace(',', '.').astype(float)\n",
    "df['monto'] = df['monto'].str.replace(',', '.').astype(float)\n",
    "df['dcto'] = df['dcto'].str.replace(',', '.').astype(float)\n",
    "\n",
    "# https://www.utf8-chartable.de/unicode-utf8-table.pl?start=128&number=128&utf8=string-literal&unicodeinhtml=hex\n",
    "df['tipo_tc'] = df['tipo_tc'].str.replace('\\xc3\\xad','í').astype(str) \n",
    "\n",
    "df['date'] = df.apply(lambda row: datetime.strptime(str(row['fecha']) + ' ' + str(row['hora']) + ':00:00', '%d/%m/%Y %H:%M:%S').timestamp(), axis=1)\n",
    "df['date'] = df['date'].astype('int64')\n",
    "\n",
    "df['genero'] = df['genero'].replace('--', np.NaN)"
   ]
  },
  {
   "cell_type": "code",
   "execution_count": 114,
   "id": "bbb97c28",
   "metadata": {},
   "outputs": [],
   "source": [
    "def split_dispositivo_column(row):\n",
    "    dispositivo = row['dispositivo'].replace(';', ',').replace('\\'','\\\"')\n",
    "    model = json.loads(dispositivo).get('model')\n",
    "    score = json.loads(dispositivo).get('device_score')\n",
    "    os = json.loads(dispositivo).get('os')\n",
    "    os = 'unknown_category_1' if os == ',' else ('unknown_category_2' if os == '%%' else os)\n",
    "    return pd.Series([model, score, os])\n",
    "    \n",
    "df[['dispositivo_model', 'dispositivo_puntaje', 'dispositivo_os']] = df.apply(split_dispositivo_column, axis = 1)"
   ]
  },
  {
   "cell_type": "code",
   "execution_count": 115,
   "id": "f6a13db1",
   "metadata": {},
   "outputs": [
    {
     "data": {
      "text/html": [
       "<div>\n",
       "<style scoped>\n",
       "    .dataframe tbody tr th:only-of-type {\n",
       "        vertical-align: middle;\n",
       "    }\n",
       "\n",
       "    .dataframe tbody tr th {\n",
       "        vertical-align: top;\n",
       "    }\n",
       "\n",
       "    .dataframe thead th {\n",
       "        text-align: right;\n",
       "    }\n",
       "</style>\n",
       "<table border=\"1\" class=\"dataframe\">\n",
       "  <thead>\n",
       "    <tr style=\"text-align: right;\">\n",
       "      <th></th>\n",
       "      <th>ID_USER</th>\n",
       "      <th>genero</th>\n",
       "      <th>monto</th>\n",
       "      <th>fecha</th>\n",
       "      <th>hora</th>\n",
       "      <th>dispositivo</th>\n",
       "      <th>establecimiento</th>\n",
       "      <th>ciudad</th>\n",
       "      <th>tipo_tc</th>\n",
       "      <th>linea_tc</th>\n",
       "      <th>interes_tc</th>\n",
       "      <th>status_txn</th>\n",
       "      <th>is_prime</th>\n",
       "      <th>dcto</th>\n",
       "      <th>cashback</th>\n",
       "      <th>fraude</th>\n",
       "      <th>date</th>\n",
       "      <th>dispositivo_model</th>\n",
       "      <th>dispositivo_puntaje</th>\n",
       "      <th>dispositivo_os</th>\n",
       "    </tr>\n",
       "  </thead>\n",
       "  <tbody>\n",
       "    <tr>\n",
       "      <th>0</th>\n",
       "      <td>0</td>\n",
       "      <td>F</td>\n",
       "      <td>608.345633</td>\n",
       "      <td>21/01/2020</td>\n",
       "      <td>20</td>\n",
       "      <td>{'model': 2020; 'device_score': 3; 'os': 'ANDR...</td>\n",
       "      <td>Super</td>\n",
       "      <td>Merida</td>\n",
       "      <td>Física</td>\n",
       "      <td>71000</td>\n",
       "      <td>51</td>\n",
       "      <td>Aceptada</td>\n",
       "      <td>False</td>\n",
       "      <td>60.834563</td>\n",
       "      <td>5.475111</td>\n",
       "      <td>False</td>\n",
       "      <td>1579654800</td>\n",
       "      <td>2020</td>\n",
       "      <td>3</td>\n",
       "      <td>ANDROID</td>\n",
       "    </tr>\n",
       "    <tr>\n",
       "      <th>1</th>\n",
       "      <td>0</td>\n",
       "      <td>F</td>\n",
       "      <td>88.719243</td>\n",
       "      <td>15/01/2020</td>\n",
       "      <td>7</td>\n",
       "      <td>{'model': 2020; 'device_score': 1; 'os': 'ANDR...</td>\n",
       "      <td>NaN</td>\n",
       "      <td>Merida</td>\n",
       "      <td>Virtual</td>\n",
       "      <td>71000</td>\n",
       "      <td>51</td>\n",
       "      <td>Aceptada</td>\n",
       "      <td>False</td>\n",
       "      <td>0.000000</td>\n",
       "      <td>1.774385</td>\n",
       "      <td>False</td>\n",
       "      <td>1579089600</td>\n",
       "      <td>2020</td>\n",
       "      <td>1</td>\n",
       "      <td>ANDROID</td>\n",
       "    </tr>\n",
       "    <tr>\n",
       "      <th>2</th>\n",
       "      <td>1</td>\n",
       "      <td>F</td>\n",
       "      <td>790.037653</td>\n",
       "      <td>17/01/2020</td>\n",
       "      <td>11</td>\n",
       "      <td>{'model': 2020; 'device_score': 1; 'os': ','}</td>\n",
       "      <td>NaN</td>\n",
       "      <td>Guadalajara</td>\n",
       "      <td>Virtual</td>\n",
       "      <td>94000</td>\n",
       "      <td>56</td>\n",
       "      <td>En proceso</td>\n",
       "      <td>False</td>\n",
       "      <td>0.000000</td>\n",
       "      <td>15.800753</td>\n",
       "      <td>False</td>\n",
       "      <td>1579276800</td>\n",
       "      <td>2020</td>\n",
       "      <td>1</td>\n",
       "      <td>unknown_category_1</td>\n",
       "    </tr>\n",
       "    <tr>\n",
       "      <th>3</th>\n",
       "      <td>1</td>\n",
       "      <td>F</td>\n",
       "      <td>767.005387</td>\n",
       "      <td>5/01/2020</td>\n",
       "      <td>11</td>\n",
       "      <td>{'model': 2020; 'device_score': 3; 'os': 'WEB'}</td>\n",
       "      <td>MPago</td>\n",
       "      <td>Guadalajara</td>\n",
       "      <td>Física</td>\n",
       "      <td>94000</td>\n",
       "      <td>56</td>\n",
       "      <td>Aceptada</td>\n",
       "      <td>False</td>\n",
       "      <td>0.000000</td>\n",
       "      <td>7.670054</td>\n",
       "      <td>False</td>\n",
       "      <td>1578240000</td>\n",
       "      <td>2020</td>\n",
       "      <td>3</td>\n",
       "      <td>WEB</td>\n",
       "    </tr>\n",
       "    <tr>\n",
       "      <th>4</th>\n",
       "      <td>1</td>\n",
       "      <td>F</td>\n",
       "      <td>254.171053</td>\n",
       "      <td>30/01/2020</td>\n",
       "      <td>10</td>\n",
       "      <td>{'model': 2020; 'device_score': 3; 'os': '%%'}</td>\n",
       "      <td>NaN</td>\n",
       "      <td>Guadalajara</td>\n",
       "      <td>Física</td>\n",
       "      <td>94000</td>\n",
       "      <td>56</td>\n",
       "      <td>Aceptada</td>\n",
       "      <td>False</td>\n",
       "      <td>0.000000</td>\n",
       "      <td>2.541711</td>\n",
       "      <td>False</td>\n",
       "      <td>1580396400</td>\n",
       "      <td>2020</td>\n",
       "      <td>3</td>\n",
       "      <td>unknown_category_2</td>\n",
       "    </tr>\n",
       "  </tbody>\n",
       "</table>\n",
       "</div>"
      ],
      "text/plain": [
       "   ID_USER genero       monto       fecha  hora  \\\n",
       "0        0      F  608.345633  21/01/2020    20   \n",
       "1        0      F   88.719243  15/01/2020     7   \n",
       "2        1      F  790.037653  17/01/2020    11   \n",
       "3        1      F  767.005387   5/01/2020    11   \n",
       "4        1      F  254.171053  30/01/2020    10   \n",
       "\n",
       "                                         dispositivo establecimiento  \\\n",
       "0  {'model': 2020; 'device_score': 3; 'os': 'ANDR...           Super   \n",
       "1  {'model': 2020; 'device_score': 1; 'os': 'ANDR...             NaN   \n",
       "2      {'model': 2020; 'device_score': 1; 'os': ','}             NaN   \n",
       "3    {'model': 2020; 'device_score': 3; 'os': 'WEB'}           MPago   \n",
       "4     {'model': 2020; 'device_score': 3; 'os': '%%'}             NaN   \n",
       "\n",
       "        ciudad  tipo_tc  linea_tc  interes_tc  status_txn  is_prime  \\\n",
       "0       Merida   Física     71000          51    Aceptada     False   \n",
       "1       Merida  Virtual     71000          51    Aceptada     False   \n",
       "2  Guadalajara  Virtual     94000          56  En proceso     False   \n",
       "3  Guadalajara   Física     94000          56    Aceptada     False   \n",
       "4  Guadalajara   Física     94000          56    Aceptada     False   \n",
       "\n",
       "        dcto   cashback  fraude        date  dispositivo_model  \\\n",
       "0  60.834563   5.475111   False  1579654800               2020   \n",
       "1   0.000000   1.774385   False  1579089600               2020   \n",
       "2   0.000000  15.800753   False  1579276800               2020   \n",
       "3   0.000000   7.670054   False  1578240000               2020   \n",
       "4   0.000000   2.541711   False  1580396400               2020   \n",
       "\n",
       "   dispositivo_puntaje      dispositivo_os  \n",
       "0                    3             ANDROID  \n",
       "1                    1             ANDROID  \n",
       "2                    1  unknown_category_1  \n",
       "3                    3                 WEB  \n",
       "4                    3  unknown_category_2  "
      ]
     },
     "execution_count": 115,
     "metadata": {},
     "output_type": "execute_result"
    }
   ],
   "source": [
    "df.head()"
   ]
  },
  {
   "cell_type": "markdown",
   "id": "c7761bda",
   "metadata": {},
   "source": [
    "### Completando missing values\n",
    "\n",
    "Algo que hay que notar en el dataset es que cada usuario (ID_USER) se encuentra ordenado de menor a mayor y cada usuario tiene sus filas juntas (no estan desordenadas)"
   ]
  },
  {
   "cell_type": "code",
   "execution_count": 116,
   "id": "40369402",
   "metadata": {},
   "outputs": [
    {
     "data": {
      "text/html": [
       "<div>\n",
       "<style scoped>\n",
       "    .dataframe tbody tr th:only-of-type {\n",
       "        vertical-align: middle;\n",
       "    }\n",
       "\n",
       "    .dataframe tbody tr th {\n",
       "        vertical-align: top;\n",
       "    }\n",
       "\n",
       "    .dataframe thead th {\n",
       "        text-align: right;\n",
       "    }\n",
       "</style>\n",
       "<table border=\"1\" class=\"dataframe\">\n",
       "  <thead>\n",
       "    <tr style=\"text-align: right;\">\n",
       "      <th></th>\n",
       "      <th>ID_USER</th>\n",
       "      <th>genero</th>\n",
       "      <th>monto</th>\n",
       "      <th>fecha</th>\n",
       "      <th>hora</th>\n",
       "      <th>dispositivo</th>\n",
       "      <th>establecimiento</th>\n",
       "      <th>ciudad</th>\n",
       "      <th>tipo_tc</th>\n",
       "      <th>linea_tc</th>\n",
       "      <th>interes_tc</th>\n",
       "      <th>status_txn</th>\n",
       "      <th>is_prime</th>\n",
       "      <th>dcto</th>\n",
       "      <th>cashback</th>\n",
       "      <th>fraude</th>\n",
       "      <th>date</th>\n",
       "      <th>dispositivo_model</th>\n",
       "      <th>dispositivo_puntaje</th>\n",
       "      <th>dispositivo_os</th>\n",
       "    </tr>\n",
       "  </thead>\n",
       "  <tbody>\n",
       "    <tr>\n",
       "      <th>23</th>\n",
       "      <td>7</td>\n",
       "      <td>NaN</td>\n",
       "      <td>905.115072</td>\n",
       "      <td>22/01/2020</td>\n",
       "      <td>23</td>\n",
       "      <td>{'model': 2020; 'device_score': 4; 'os': 'ANDR...</td>\n",
       "      <td>NaN</td>\n",
       "      <td>Guadalajara</td>\n",
       "      <td>Virtual</td>\n",
       "      <td>72000</td>\n",
       "      <td>57</td>\n",
       "      <td>Aceptada</td>\n",
       "      <td>False</td>\n",
       "      <td>90.511507</td>\n",
       "      <td>16.292071</td>\n",
       "      <td>False</td>\n",
       "      <td>1579752000</td>\n",
       "      <td>2020</td>\n",
       "      <td>4</td>\n",
       "      <td>ANDROID</td>\n",
       "    </tr>\n",
       "    <tr>\n",
       "      <th>24</th>\n",
       "      <td>7</td>\n",
       "      <td>NaN</td>\n",
       "      <td>392.693737</td>\n",
       "      <td>16/01/2020</td>\n",
       "      <td>10</td>\n",
       "      <td>{'model': 2020; 'device_score': 1; 'os': '%%'}</td>\n",
       "      <td>NaN</td>\n",
       "      <td>Guadalajara</td>\n",
       "      <td>Física</td>\n",
       "      <td>72000</td>\n",
       "      <td>57</td>\n",
       "      <td>Aceptada</td>\n",
       "      <td>False</td>\n",
       "      <td>0.000000</td>\n",
       "      <td>3.926937</td>\n",
       "      <td>False</td>\n",
       "      <td>1579186800</td>\n",
       "      <td>2020</td>\n",
       "      <td>1</td>\n",
       "      <td>unknown_category_2</td>\n",
       "    </tr>\n",
       "    <tr>\n",
       "      <th>25</th>\n",
       "      <td>7</td>\n",
       "      <td>NaN</td>\n",
       "      <td>621.604701</td>\n",
       "      <td>19/01/2020</td>\n",
       "      <td>13</td>\n",
       "      <td>{'model': 2020; 'device_score': 2; 'os': '%%'}</td>\n",
       "      <td>MPago</td>\n",
       "      <td>Guadalajara</td>\n",
       "      <td>Física</td>\n",
       "      <td>72000</td>\n",
       "      <td>57</td>\n",
       "      <td>Aceptada</td>\n",
       "      <td>False</td>\n",
       "      <td>0.000000</td>\n",
       "      <td>6.216047</td>\n",
       "      <td>False</td>\n",
       "      <td>1579456800</td>\n",
       "      <td>2020</td>\n",
       "      <td>2</td>\n",
       "      <td>unknown_category_2</td>\n",
       "    </tr>\n",
       "    <tr>\n",
       "      <th>26</th>\n",
       "      <td>7</td>\n",
       "      <td>NaN</td>\n",
       "      <td>43.721670</td>\n",
       "      <td>4/01/2020</td>\n",
       "      <td>17</td>\n",
       "      <td>{'model': 2020; 'device_score': 1; 'os': 'WEB'}</td>\n",
       "      <td>Abarrotes</td>\n",
       "      <td>Guadalajara</td>\n",
       "      <td>Física</td>\n",
       "      <td>72000</td>\n",
       "      <td>57</td>\n",
       "      <td>Aceptada</td>\n",
       "      <td>False</td>\n",
       "      <td>0.000000</td>\n",
       "      <td>0.437217</td>\n",
       "      <td>True</td>\n",
       "      <td>1578175200</td>\n",
       "      <td>2020</td>\n",
       "      <td>1</td>\n",
       "      <td>WEB</td>\n",
       "    </tr>\n",
       "    <tr>\n",
       "      <th>27</th>\n",
       "      <td>7</td>\n",
       "      <td>NaN</td>\n",
       "      <td>444.299342</td>\n",
       "      <td>17/01/2020</td>\n",
       "      <td>6</td>\n",
       "      <td>{'model': 2020; 'device_score': 3; 'os': 'WEB'}</td>\n",
       "      <td>NaN</td>\n",
       "      <td>Guadalajara</td>\n",
       "      <td>Virtual</td>\n",
       "      <td>72000</td>\n",
       "      <td>57</td>\n",
       "      <td>En proceso</td>\n",
       "      <td>False</td>\n",
       "      <td>0.000000</td>\n",
       "      <td>8.885987</td>\n",
       "      <td>False</td>\n",
       "      <td>1579258800</td>\n",
       "      <td>2020</td>\n",
       "      <td>3</td>\n",
       "      <td>WEB</td>\n",
       "    </tr>\n",
       "  </tbody>\n",
       "</table>\n",
       "</div>"
      ],
      "text/plain": [
       "    ID_USER genero       monto       fecha  hora  \\\n",
       "23        7    NaN  905.115072  22/01/2020    23   \n",
       "24        7    NaN  392.693737  16/01/2020    10   \n",
       "25        7    NaN  621.604701  19/01/2020    13   \n",
       "26        7    NaN   43.721670   4/01/2020    17   \n",
       "27        7    NaN  444.299342  17/01/2020     6   \n",
       "\n",
       "                                          dispositivo establecimiento  \\\n",
       "23  {'model': 2020; 'device_score': 4; 'os': 'ANDR...             NaN   \n",
       "24     {'model': 2020; 'device_score': 1; 'os': '%%'}             NaN   \n",
       "25     {'model': 2020; 'device_score': 2; 'os': '%%'}           MPago   \n",
       "26    {'model': 2020; 'device_score': 1; 'os': 'WEB'}       Abarrotes   \n",
       "27    {'model': 2020; 'device_score': 3; 'os': 'WEB'}             NaN   \n",
       "\n",
       "         ciudad  tipo_tc  linea_tc  interes_tc  status_txn  is_prime  \\\n",
       "23  Guadalajara  Virtual     72000          57    Aceptada     False   \n",
       "24  Guadalajara   Física     72000          57    Aceptada     False   \n",
       "25  Guadalajara   Física     72000          57    Aceptada     False   \n",
       "26  Guadalajara   Física     72000          57    Aceptada     False   \n",
       "27  Guadalajara  Virtual     72000          57  En proceso     False   \n",
       "\n",
       "         dcto   cashback  fraude        date  dispositivo_model  \\\n",
       "23  90.511507  16.292071   False  1579752000               2020   \n",
       "24   0.000000   3.926937   False  1579186800               2020   \n",
       "25   0.000000   6.216047   False  1579456800               2020   \n",
       "26   0.000000   0.437217    True  1578175200               2020   \n",
       "27   0.000000   8.885987   False  1579258800               2020   \n",
       "\n",
       "    dispositivo_puntaje      dispositivo_os  \n",
       "23                    4             ANDROID  \n",
       "24                    1  unknown_category_2  \n",
       "25                    2  unknown_category_2  \n",
       "26                    1                 WEB  \n",
       "27                    3                 WEB  "
      ]
     },
     "execution_count": 116,
     "metadata": {},
     "output_type": "execute_result"
    }
   ],
   "source": [
    "df[df['ID_USER'] == 7]"
   ]
  },
  {
   "cell_type": "markdown",
   "id": "087cc820",
   "metadata": {},
   "source": [
    "Notamos como el usuario con id '7' tiene su información de la fila 23 a la fila 27 continuamente."
   ]
  },
  {
   "cell_type": "code",
   "execution_count": 117,
   "id": "2d938c9d",
   "metadata": {
    "scrolled": true
   },
   "outputs": [
    {
     "data": {
      "text/html": [
       "<div>\n",
       "<style scoped>\n",
       "    .dataframe tbody tr th:only-of-type {\n",
       "        vertical-align: middle;\n",
       "    }\n",
       "\n",
       "    .dataframe tbody tr th {\n",
       "        vertical-align: top;\n",
       "    }\n",
       "\n",
       "    .dataframe thead th {\n",
       "        text-align: right;\n",
       "    }\n",
       "</style>\n",
       "<table border=\"1\" class=\"dataframe\">\n",
       "  <thead>\n",
       "    <tr style=\"text-align: right;\">\n",
       "      <th></th>\n",
       "      <th>ID_USER</th>\n",
       "      <th>genero</th>\n",
       "      <th>monto</th>\n",
       "      <th>fecha</th>\n",
       "      <th>hora</th>\n",
       "      <th>dispositivo</th>\n",
       "      <th>establecimiento</th>\n",
       "      <th>ciudad</th>\n",
       "      <th>tipo_tc</th>\n",
       "      <th>linea_tc</th>\n",
       "      <th>interes_tc</th>\n",
       "      <th>status_txn</th>\n",
       "      <th>is_prime</th>\n",
       "      <th>dcto</th>\n",
       "      <th>cashback</th>\n",
       "      <th>fraude</th>\n",
       "      <th>date</th>\n",
       "      <th>dispositivo_model</th>\n",
       "      <th>dispositivo_puntaje</th>\n",
       "      <th>dispositivo_os</th>\n",
       "    </tr>\n",
       "  </thead>\n",
       "  <tbody>\n",
       "    <tr>\n",
       "      <th>2</th>\n",
       "      <td>1</td>\n",
       "      <td>F</td>\n",
       "      <td>790.037653</td>\n",
       "      <td>17/01/2020</td>\n",
       "      <td>11</td>\n",
       "      <td>{'model': 2020; 'device_score': 1; 'os': ','}</td>\n",
       "      <td>NaN</td>\n",
       "      <td>Guadalajara</td>\n",
       "      <td>Virtual</td>\n",
       "      <td>94000</td>\n",
       "      <td>56</td>\n",
       "      <td>En proceso</td>\n",
       "      <td>False</td>\n",
       "      <td>0.000000</td>\n",
       "      <td>15.800753</td>\n",
       "      <td>False</td>\n",
       "      <td>1579276800</td>\n",
       "      <td>2020</td>\n",
       "      <td>1</td>\n",
       "      <td>unknown_category_1</td>\n",
       "    </tr>\n",
       "    <tr>\n",
       "      <th>3</th>\n",
       "      <td>1</td>\n",
       "      <td>F</td>\n",
       "      <td>767.005387</td>\n",
       "      <td>5/01/2020</td>\n",
       "      <td>11</td>\n",
       "      <td>{'model': 2020; 'device_score': 3; 'os': 'WEB'}</td>\n",
       "      <td>MPago</td>\n",
       "      <td>Guadalajara</td>\n",
       "      <td>Física</td>\n",
       "      <td>94000</td>\n",
       "      <td>56</td>\n",
       "      <td>Aceptada</td>\n",
       "      <td>False</td>\n",
       "      <td>0.000000</td>\n",
       "      <td>7.670054</td>\n",
       "      <td>False</td>\n",
       "      <td>1578240000</td>\n",
       "      <td>2020</td>\n",
       "      <td>3</td>\n",
       "      <td>WEB</td>\n",
       "    </tr>\n",
       "    <tr>\n",
       "      <th>4</th>\n",
       "      <td>1</td>\n",
       "      <td>F</td>\n",
       "      <td>254.171053</td>\n",
       "      <td>30/01/2020</td>\n",
       "      <td>10</td>\n",
       "      <td>{'model': 2020; 'device_score': 3; 'os': '%%'}</td>\n",
       "      <td>NaN</td>\n",
       "      <td>Guadalajara</td>\n",
       "      <td>Física</td>\n",
       "      <td>94000</td>\n",
       "      <td>56</td>\n",
       "      <td>Aceptada</td>\n",
       "      <td>False</td>\n",
       "      <td>0.000000</td>\n",
       "      <td>2.541711</td>\n",
       "      <td>False</td>\n",
       "      <td>1580396400</td>\n",
       "      <td>2020</td>\n",
       "      <td>3</td>\n",
       "      <td>unknown_category_2</td>\n",
       "    </tr>\n",
       "    <tr>\n",
       "      <th>5</th>\n",
       "      <td>1</td>\n",
       "      <td>F</td>\n",
       "      <td>37.003747</td>\n",
       "      <td>27/01/2020</td>\n",
       "      <td>3</td>\n",
       "      <td>{'model': 2020; 'device_score': 2; 'os': '%%'}</td>\n",
       "      <td>NaN</td>\n",
       "      <td>Guadalajara</td>\n",
       "      <td>Física</td>\n",
       "      <td>94000</td>\n",
       "      <td>56</td>\n",
       "      <td>Rechazada</td>\n",
       "      <td>False</td>\n",
       "      <td>0.000000</td>\n",
       "      <td>0.370037</td>\n",
       "      <td>False</td>\n",
       "      <td>1580112000</td>\n",
       "      <td>2020</td>\n",
       "      <td>2</td>\n",
       "      <td>unknown_category_2</td>\n",
       "    </tr>\n",
       "    <tr>\n",
       "      <th>6</th>\n",
       "      <td>1</td>\n",
       "      <td>F</td>\n",
       "      <td>334.516017</td>\n",
       "      <td>6/01/2020</td>\n",
       "      <td>2</td>\n",
       "      <td>{'model': 2020; 'device_score': 1; 'os': '%%'}</td>\n",
       "      <td>Abarrotes</td>\n",
       "      <td>Guadalajara</td>\n",
       "      <td>Física</td>\n",
       "      <td>94000</td>\n",
       "      <td>56</td>\n",
       "      <td>Aceptada</td>\n",
       "      <td>False</td>\n",
       "      <td>33.451602</td>\n",
       "      <td>3.010644</td>\n",
       "      <td>False</td>\n",
       "      <td>1578294000</td>\n",
       "      <td>2020</td>\n",
       "      <td>1</td>\n",
       "      <td>unknown_category_2</td>\n",
       "    </tr>\n",
       "    <tr>\n",
       "      <th>7</th>\n",
       "      <td>1</td>\n",
       "      <td>F</td>\n",
       "      <td>322.264405</td>\n",
       "      <td>11/01/2020</td>\n",
       "      <td>13</td>\n",
       "      <td>{'model': 2020; 'device_score': 4; 'os': '%%'}</td>\n",
       "      <td>MPago</td>\n",
       "      <td>Guadalajara</td>\n",
       "      <td>Física</td>\n",
       "      <td>94000</td>\n",
       "      <td>56</td>\n",
       "      <td>Aceptada</td>\n",
       "      <td>False</td>\n",
       "      <td>0.000000</td>\n",
       "      <td>3.222644</td>\n",
       "      <td>False</td>\n",
       "      <td>1578765600</td>\n",
       "      <td>2020</td>\n",
       "      <td>4</td>\n",
       "      <td>unknown_category_2</td>\n",
       "    </tr>\n",
       "    <tr>\n",
       "      <th>8</th>\n",
       "      <td>1</td>\n",
       "      <td>F</td>\n",
       "      <td>911.797804</td>\n",
       "      <td>19/01/2020</td>\n",
       "      <td>3</td>\n",
       "      <td>{'model': 2020; 'device_score': 3; 'os': ','}</td>\n",
       "      <td>Abarrotes</td>\n",
       "      <td>Guadalajara</td>\n",
       "      <td>Virtual</td>\n",
       "      <td>94000</td>\n",
       "      <td>56</td>\n",
       "      <td>Aceptada</td>\n",
       "      <td>False</td>\n",
       "      <td>91.179780</td>\n",
       "      <td>16.412360</td>\n",
       "      <td>False</td>\n",
       "      <td>1579420800</td>\n",
       "      <td>2020</td>\n",
       "      <td>3</td>\n",
       "      <td>unknown_category_1</td>\n",
       "    </tr>\n",
       "  </tbody>\n",
       "</table>\n",
       "</div>"
      ],
      "text/plain": [
       "   ID_USER genero       monto       fecha  hora  \\\n",
       "2        1      F  790.037653  17/01/2020    11   \n",
       "3        1      F  767.005387   5/01/2020    11   \n",
       "4        1      F  254.171053  30/01/2020    10   \n",
       "5        1      F   37.003747  27/01/2020     3   \n",
       "6        1      F  334.516017   6/01/2020     2   \n",
       "7        1      F  322.264405  11/01/2020    13   \n",
       "8        1      F  911.797804  19/01/2020     3   \n",
       "\n",
       "                                       dispositivo establecimiento  \\\n",
       "2    {'model': 2020; 'device_score': 1; 'os': ','}             NaN   \n",
       "3  {'model': 2020; 'device_score': 3; 'os': 'WEB'}           MPago   \n",
       "4   {'model': 2020; 'device_score': 3; 'os': '%%'}             NaN   \n",
       "5   {'model': 2020; 'device_score': 2; 'os': '%%'}             NaN   \n",
       "6   {'model': 2020; 'device_score': 1; 'os': '%%'}       Abarrotes   \n",
       "7   {'model': 2020; 'device_score': 4; 'os': '%%'}           MPago   \n",
       "8    {'model': 2020; 'device_score': 3; 'os': ','}       Abarrotes   \n",
       "\n",
       "        ciudad  tipo_tc  linea_tc  interes_tc  status_txn  is_prime  \\\n",
       "2  Guadalajara  Virtual     94000          56  En proceso     False   \n",
       "3  Guadalajara   Física     94000          56    Aceptada     False   \n",
       "4  Guadalajara   Física     94000          56    Aceptada     False   \n",
       "5  Guadalajara   Física     94000          56   Rechazada     False   \n",
       "6  Guadalajara   Física     94000          56    Aceptada     False   \n",
       "7  Guadalajara   Física     94000          56    Aceptada     False   \n",
       "8  Guadalajara  Virtual     94000          56    Aceptada     False   \n",
       "\n",
       "        dcto   cashback  fraude        date  dispositivo_model  \\\n",
       "2   0.000000  15.800753   False  1579276800               2020   \n",
       "3   0.000000   7.670054   False  1578240000               2020   \n",
       "4   0.000000   2.541711   False  1580396400               2020   \n",
       "5   0.000000   0.370037   False  1580112000               2020   \n",
       "6  33.451602   3.010644   False  1578294000               2020   \n",
       "7   0.000000   3.222644   False  1578765600               2020   \n",
       "8  91.179780  16.412360   False  1579420800               2020   \n",
       "\n",
       "   dispositivo_puntaje      dispositivo_os  \n",
       "2                    1  unknown_category_1  \n",
       "3                    3                 WEB  \n",
       "4                    3  unknown_category_2  \n",
       "5                    2  unknown_category_2  \n",
       "6                    1  unknown_category_2  \n",
       "7                    4  unknown_category_2  \n",
       "8                    3  unknown_category_1  "
      ]
     },
     "execution_count": 117,
     "metadata": {},
     "output_type": "execute_result"
    }
   ],
   "source": [
    "df[df['ID_USER'] == 1]"
   ]
  },
  {
   "cell_type": "markdown",
   "id": "5ddb472b",
   "metadata": {},
   "source": [
    "#### Recordar:\n",
    "* Son 3 parámetros los que poseen valores faltantes\n",
    "  - Ciudad\n",
    "  - Establecimiento\n",
    "  - Género\n",
    "  \n"
   ]
  },
  {
   "cell_type": "code",
   "execution_count": 118,
   "id": "6c1dcf57",
   "metadata": {},
   "outputs": [],
   "source": [
    "groups = df.groupby('ID_USER')"
   ]
  },
  {
   "cell_type": "markdown",
   "id": "6a4c42a0",
   "metadata": {},
   "source": [
    "### CIUDAD\n",
    "\n",
    "Como podemos ver cada usuario tiene sus respectivas transacciones (compras) por lo que podríamos completar los valores faltantes con la siguiente lógica:\n",
    "\n",
    "Como cada usuario es muy probable que realize su compra en la misma ciudad vamos a agrupar por usuario (id) y vamos a completar los valores faltantes con el valor de ciudad que más se repite. (Es esta mi primera intuición)"
   ]
  },
  {
   "cell_type": "code",
   "execution_count": 119,
   "id": "03f528e2",
   "metadata": {},
   "outputs": [
    {
     "data": {
      "text/plain": [
       "11678"
      ]
     },
     "execution_count": 119,
     "metadata": {},
     "output_type": "execute_result"
    }
   ],
   "source": [
    "# Antes de completar la ciudad veamos cuantos valores faltan\n",
    "df.ciudad.isnull().sum()"
   ]
  },
  {
   "cell_type": "markdown",
   "id": "59488b84",
   "metadata": {},
   "source": [
    "Puede darse el caso que un usuario no tenga ninguna transaccion con alguna ciudad registrada en ese caso vamos a dejar como vació por ahora."
   ]
  },
  {
   "cell_type": "code",
   "execution_count": 120,
   "id": "70f87df6",
   "metadata": {},
   "outputs": [],
   "source": [
    "mode_by_group = groups['ciudad'].transform(lambda x: x.mode().get(0, np.NaN))\n",
    "df['ciudad'] = df['ciudad'].fillna(mode_by_group)"
   ]
  },
  {
   "cell_type": "code",
   "execution_count": 121,
   "id": "2ac56c56",
   "metadata": {},
   "outputs": [
    {
     "data": {
      "text/plain": [
       "11678"
      ]
     },
     "execution_count": 121,
     "metadata": {},
     "output_type": "execute_result"
    }
   ],
   "source": [
    "# Despues de completar la lógica anterior\n",
    "df.ciudad.isnull().sum()"
   ]
  },
  {
   "cell_type": "markdown",
   "id": "0d0d7215",
   "metadata": {},
   "source": [
    "Vemos que ningun valor fue agregado, esto nos dice:\n",
    "- Cuando un usuario no tiene ciudad registrada, este problema se presenta para todas las transacciones (del usuario en cuestión)\n",
    "\n",
    "Intentemos con clasicos ffill y bfill"
   ]
  },
  {
   "cell_type": "code",
   "execution_count": 122,
   "id": "c2da8b5a",
   "metadata": {},
   "outputs": [
    {
     "data": {
      "text/plain": [
       "Text(0, 0.5, 'Cantidad')"
      ]
     },
     "execution_count": 122,
     "metadata": {},
     "output_type": "execute_result"
    },
    {
     "data": {
      "image/png": "[encoded data removed]",
      "text/plain": [
       "<Figure size 432x288 with 1 Axes>"
      ]
     },
     "metadata": {
      "needs_background": "light"
     },
     "output_type": "display_data"
    }
   ],
   "source": [
    "# ORIGINAl\n",
    "sns.countplot(x = 'ciudad', data=df.fillna('Valores Faltantes'))\n",
    "plt.title('Ciudad donde se realizó la transacción', fontsize=14)\n",
    "plt.xlabel('')\n",
    "plt.ylabel('Cantidad')"
   ]
  },
  {
   "cell_type": "markdown",
   "id": "4a0a4749",
   "metadata": {},
   "source": [
    "Queremos que estas proporciones se mantengan (Toluca más que Guadalajara luego Mérida muy similar a Monterrey)"
   ]
  },
  {
   "cell_type": "code",
   "execution_count": 123,
   "id": "1923a565",
   "metadata": {
    "scrolled": false
   },
   "outputs": [
    {
     "data": {
      "text/plain": [
       "Text(0, 0.5, 'Cantidad')"
      ]
     },
     "execution_count": 123,
     "metadata": {},
     "output_type": "execute_result"
    },
    {
     "data": {
      "image/png": "[encoded data removed]",
      "text/plain": [
       "<Figure size 432x288 with 1 Axes>"
      ]
     },
     "metadata": {
      "needs_background": "light"
     },
     "output_type": "display_data"
    }
   ],
   "source": [
    "sns.countplot(x = 'ciudad', data=df.fillna(method='ffill'))\n",
    "plt.title('Ciudad donde se realizó la transacción', fontsize=14)\n",
    "plt.xlabel('')\n",
    "plt.ylabel('Cantidad')"
   ]
  },
  {
   "cell_type": "markdown",
   "id": "b32625f9",
   "metadata": {},
   "source": [
    "No se mantuvo la proporcion deseada"
   ]
  },
  {
   "cell_type": "code",
   "execution_count": 124,
   "id": "c3ae2a34",
   "metadata": {},
   "outputs": [
    {
     "data": {
      "text/plain": [
       "Text(0, 0.5, 'Cantidad')"
      ]
     },
     "execution_count": 124,
     "metadata": {},
     "output_type": "execute_result"
    },
    {
     "data": {
      "image/png": "[encoded data removed]",
      "text/plain": [
       "<Figure size 432x288 with 1 Axes>"
      ]
     },
     "metadata": {
      "needs_background": "light"
     },
     "output_type": "display_data"
    }
   ],
   "source": [
    "sns.countplot(x = 'ciudad', data=df.fillna(method='bfill'))\n",
    "plt.title('Ciudad donde se realizó la transacción', fontsize=14)\n",
    "plt.xlabel('')\n",
    "plt.ylabel('Cantidad')"
   ]
  },
  {
   "cell_type": "markdown",
   "id": "834ceac9",
   "metadata": {},
   "source": [
    "Se mantuvo la proporción deseada (al menos es muy similar) por lo que obtaremos por **bfill**"
   ]
  },
  {
   "cell_type": "code",
   "execution_count": 125,
   "id": "2c22b339",
   "metadata": {},
   "outputs": [],
   "source": [
    "df['ciudad'] = df['ciudad'].fillna(method='bfill')"
   ]
  },
  {
   "cell_type": "code",
   "execution_count": 126,
   "id": "6faee563",
   "metadata": {
    "scrolled": true
   },
   "outputs": [
    {
     "data": {
      "text/plain": [
       "0"
      ]
     },
     "execution_count": 126,
     "metadata": {},
     "output_type": "execute_result"
    }
   ],
   "source": [
    "df.ciudad.isnull().sum()"
   ]
  },
  {
   "cell_type": "markdown",
   "id": "3fac1df6",
   "metadata": {},
   "source": [
    "Completamos odos los valores faltantes para ciudad"
   ]
  },
  {
   "cell_type": "markdown",
   "id": "44a8c0bb",
   "metadata": {},
   "source": [
    "### Establecimiento\n",
    "\n",
    "Como cada usuario es probable que realize su compra en el mismo establecimiento, vamos a agrupar por usuario (id) y vamos a completar los valores faltantes con el valor de establecimiento que más se repite. (Es esta mi primera intuición)"
   ]
  },
  {
   "cell_type": "code",
   "execution_count": 127,
   "id": "3852c453",
   "metadata": {
    "scrolled": true
   },
   "outputs": [
    {
     "data": {
      "text/plain": [
       "10119"
      ]
     },
     "execution_count": 127,
     "metadata": {},
     "output_type": "execute_result"
    }
   ],
   "source": [
    "# Antes de completar el establecimiento veamos cuantos valores faltan\n",
    "df.establecimiento.isnull().sum()"
   ]
  },
  {
   "cell_type": "markdown",
   "id": "fc9e53bf",
   "metadata": {},
   "source": [
    "Puede darse el caso que un usuario no tenga ninguna transaccion con algun establecimiento registrado en ese caso vamos a dejar como vació por ahora."
   ]
  },
  {
   "cell_type": "code",
   "execution_count": 128,
   "id": "3f1a2d14",
   "metadata": {},
   "outputs": [],
   "source": [
    "## Salvamos la columna establecimiento \n",
    "df_temp_establecimiento = df['establecimiento'].copy()"
   ]
  },
  {
   "cell_type": "code",
   "execution_count": 129,
   "id": "74fd4157",
   "metadata": {},
   "outputs": [],
   "source": [
    "mode_by_group = groups['establecimiento'].transform(lambda x: x.mode().get(0, np.NaN))\n",
    "df['establecimiento'] = df['establecimiento'].fillna(mode_by_group)"
   ]
  },
  {
   "cell_type": "code",
   "execution_count": 130,
   "id": "3f89c33d",
   "metadata": {},
   "outputs": [
    {
     "data": {
      "text/plain": [
       "498"
      ]
     },
     "execution_count": 130,
     "metadata": {},
     "output_type": "execute_result"
    }
   ],
   "source": [
    "# Despues de completar la lógica anterior\n",
    "df.establecimiento.isnull().sum()"
   ]
  },
  {
   "cell_type": "markdown",
   "id": "831736cb",
   "metadata": {},
   "source": [
    "Observamos que 498 valores no tienen ningun valor porque cuando se agrupo por usuario y se busco su establecimiento más común, este no tenía absolutamente ningun establecimiento registrado.\n",
    "Estos valores vamos a completarlos con bfill o ffill **solo para estos 498 valores** que no pudieron ser completados con la lógica anterior"
   ]
  },
  {
   "cell_type": "code",
   "execution_count": 131,
   "id": "0d900acb",
   "metadata": {
    "scrolled": true
   },
   "outputs": [
    {
     "data": {
      "text/plain": [
       "Text(0, 0.5, 'Cantidad')"
      ]
     },
     "execution_count": 131,
     "metadata": {},
     "output_type": "execute_result"
    },
    {
     "data": {
      "image/png": "[encoded data removed]",
      "text/plain": [
       "<Figure size 432x288 with 1 Axes>"
      ]
     },
     "metadata": {
      "needs_background": "light"
     },
     "output_type": "display_data"
    }
   ],
   "source": [
    "sns.countplot(x = 'establecimiento', data=df.fillna(method='bfill'))\n",
    "plt.title('Lugar donde se generó transacción', fontsize=14)\n",
    "plt.xlabel('')\n",
    "plt.ylabel('Cantidad')"
   ]
  },
  {
   "cell_type": "code",
   "execution_count": 132,
   "id": "0607b8b0",
   "metadata": {},
   "outputs": [
    {
     "data": {
      "text/plain": [
       "Text(0, 0.5, 'Cantidad')"
      ]
     },
     "execution_count": 132,
     "metadata": {},
     "output_type": "execute_result"
    },
    {
     "data": {
      "image/png": "[encoded data removed]",
      "text/plain": [
       "<Figure size 432x288 with 1 Axes>"
      ]
     },
     "metadata": {
      "needs_background": "light"
     },
     "output_type": "display_data"
    }
   ],
   "source": [
    "sns.countplot(x = 'establecimiento', data=df.fillna(method='ffill'))\n",
    "plt.title('Lugar donde se generó transacción', fontsize=14)\n",
    "plt.xlabel('')\n",
    "plt.ylabel('Cantidad')"
   ]
  },
  {
   "cell_type": "markdown",
   "id": "85ad1ac2",
   "metadata": {},
   "source": [
    "Notamos que en ambos casos el balor de abarrotes se repunto con respecto a sus demás categorias.\n",
    "\n",
    "veamos alguna información en internet:\n",
    "\n",
    "![alt text](mexico_2017.jpg \"Mexico 2017\")\n",
    "![alt text](mexico_2020.jpg \"Mexico 2020\")"
   ]
  },
  {
   "cell_type": "markdown",
   "id": "a8892605",
   "metadata": {},
   "source": [
    "Esta información muestra la segmentacion de las compras en linea antes (2017) y despues (2020) del covid y como se mencionaba antes, estos datasets reales muestran categorias totalmente **desequilibradas** a comparacion del dataset **que tenemos** el cual mantiene sus categorias de establecimiento **muy equilibradas** (obviando los valores faltantes). Por lo que:\n",
    "\n",
    "- Reemplazar el establecimiento más frecuente por usuario no es una buena idea, nos deja la data desequilibrada (por fines del challenge lo tenemos equilibrado y continuemos así)\n",
    "\n",
    "- Realizar un simple bfill, igual que para la columna ciudad y veamos.\n"
   ]
  },
  {
   "cell_type": "code",
   "execution_count": 133,
   "id": "f3431d5e",
   "metadata": {},
   "outputs": [],
   "source": [
    "### Regresemos a los valores originales\n",
    "df['establecimiento'] = df_temp_establecimiento"
   ]
  },
  {
   "cell_type": "code",
   "execution_count": 134,
   "id": "487e9cc4",
   "metadata": {},
   "outputs": [
    {
     "data": {
      "text/plain": [
       "10119"
      ]
     },
     "execution_count": 134,
     "metadata": {},
     "output_type": "execute_result"
    }
   ],
   "source": [
    "# Obtenemos los mismos valores faltantes del dataset original porque recuperamos estos valores\n",
    "df.establecimiento.isnull().sum()"
   ]
  },
  {
   "cell_type": "code",
   "execution_count": 135,
   "id": "81b4df06",
   "metadata": {},
   "outputs": [
    {
     "data": {
      "text/plain": [
       "Text(0, 0.5, 'Cantidad')"
      ]
     },
     "execution_count": 135,
     "metadata": {},
     "output_type": "execute_result"
    },
    {
     "data": {
      "image/png": "[encoded data removed]",
      "text/plain": [
       "<Figure size 432x288 with 1 Axes>"
      ]
     },
     "metadata": {
      "needs_background": "light"
     },
     "output_type": "display_data"
    }
   ],
   "source": [
    "sns.countplot(x = 'establecimiento', data=df.fillna(method='bfill'))\n",
    "plt.title('Lugar donde se generó transacción', fontsize=14)\n",
    "plt.xlabel('')\n",
    "plt.ylabel('Cantidad')"
   ]
  },
  {
   "cell_type": "markdown",
   "id": "fa741750",
   "metadata": {},
   "source": [
    "Nuestra segúnda intuición es correcta y el bfill (**para todos los valores faltantes**) nos deja un dataset muucho más equilibrado que es como tenemos nuestra dataset del challenge"
   ]
  },
  {
   "cell_type": "code",
   "execution_count": 136,
   "id": "47cd052f",
   "metadata": {},
   "outputs": [
    {
     "data": {
      "text/plain": [
       "0"
      ]
     },
     "execution_count": 136,
     "metadata": {},
     "output_type": "execute_result"
    }
   ],
   "source": [
    "df['establecimiento'] = df['establecimiento'].fillna(method='bfill')\n",
    "df.establecimiento.isnull().sum()"
   ]
  },
  {
   "cell_type": "markdown",
   "id": "360cae03",
   "metadata": {},
   "source": [
    "Completamos todos los valores faltantes, no dejamos ninguno.\n",
    "\n",
    "Observacion:\n",
    "  - Se consideró que un usuario podia comprar en el mismo establecimiento (cliente fiel a su establecimiento) por lo que la primera intuición fue: llenar los valores faltantes de cada usuario con la informacion del establecimiento mas frecuente en sus transacciones\n",
    "  - La consieración anterior fue errada por que nos dejo el dataset desequilibrado y también no se considero el tiempo.\n",
    "  - En un mes una persona realiza compras para su hogar pero no todas las hara en el mismo lugar, es decir, según lo que observamos en el dataset y como bien se sabe en la vida común de una persona necesitamos comprar ciertos elementos para nuestra casa y lo mas seguro es que las haremos en distintos establecimientos porque no solo vivimos de una sola categoría de productos, es por esta razon que cuando pusimos que los valores faltantes sean del establecimiento que más frecuenta nos dejó desequilibrado los datos.\n"
   ]
  },
  {
   "cell_type": "markdown",
   "id": "1d40289f",
   "metadata": {},
   "source": [
    "### Género"
   ]
  },
  {
   "cell_type": "code",
   "execution_count": 137,
   "id": "96731b7d",
   "metadata": {},
   "outputs": [
    {
     "data": {
      "text/plain": [
       "2730"
      ]
     },
     "execution_count": 137,
     "metadata": {},
     "output_type": "execute_result"
    }
   ],
   "source": [
    "# Antes de completar el género veamos cuantos valores faltan\n",
    "df.genero.isnull().sum()"
   ]
  },
  {
   "cell_type": "code",
   "execution_count": 138,
   "id": "24c37a8a",
   "metadata": {},
   "outputs": [],
   "source": [
    "## Salvamos la columna género \n",
    "df_temp_genero = df['genero'].copy()"
   ]
  },
  {
   "cell_type": "code",
   "execution_count": 139,
   "id": "550e2acd",
   "metadata": {},
   "outputs": [],
   "source": [
    "mode_by_group = groups['genero'].transform(lambda x: x.mode().get(0, np.NaN))\n",
    "df['genero'] = df['genero'].fillna(mode_by_group)"
   ]
  },
  {
   "cell_type": "code",
   "execution_count": 140,
   "id": "66ec235c",
   "metadata": {},
   "outputs": [
    {
     "data": {
      "text/plain": [
       "2730"
      ]
     },
     "execution_count": 140,
     "metadata": {},
     "output_type": "execute_result"
    }
   ],
   "source": [
    "## Despues de completar el género\n",
    "df.genero.isnull().sum()"
   ]
  },
  {
   "cell_type": "markdown",
   "id": "da2819a7",
   "metadata": {},
   "source": [
    "Igual que en el caso de ciudad observamos que cuando agrupos por usuario, ninguna de sus transacciones muestra el género.\n",
    "Intentemos con bfill o fill"
   ]
  },
  {
   "cell_type": "code",
   "execution_count": 141,
   "id": "36a3beaf",
   "metadata": {},
   "outputs": [
    {
     "data": {
      "text/plain": [
       "Text(0, 0.5, 'Cantidad')"
      ]
     },
     "execution_count": 141,
     "metadata": {},
     "output_type": "execute_result"
    },
    {
     "data": {
      "image/png": "[encoded data removed]",
      "text/plain": [
       "<Figure size 432x288 with 1 Axes>"
      ]
     },
     "metadata": {
      "needs_background": "light"
     },
     "output_type": "display_data"
    }
   ],
   "source": [
    "sns.countplot(x = 'genero', data=df.fillna(method='bfill'))\n",
    "\n",
    "plt.xticks(np.arange(2), (\"Mujer\",\"Hombre\"))\n",
    "plt.title('Género del comprador', fontsize=14)\n",
    "plt.xlabel('')\n",
    "plt.ylabel('Cantidad')"
   ]
  },
  {
   "cell_type": "code",
   "execution_count": 142,
   "id": "055c5cf0",
   "metadata": {},
   "outputs": [
    {
     "data": {
      "text/plain": [
       "Text(0, 0.5, 'Cantidad')"
      ]
     },
     "execution_count": 142,
     "metadata": {},
     "output_type": "execute_result"
    },
    {
     "data": {
      "image/png": "[encoded data removed]",
      "text/plain": [
       "<Figure size 432x288 with 1 Axes>"
      ]
     },
     "metadata": {
      "needs_background": "light"
     },
     "output_type": "display_data"
    }
   ],
   "source": [
    "sns.countplot(x = 'genero', data=df.fillna(method='ffill'))\n",
    "\n",
    "plt.xticks(np.arange(2), (\"Mujer\", \"Hombre\"))\n",
    "plt.title('Género del comprador', fontsize=14)\n",
    "plt.xlabel('')\n",
    "plt.ylabel('Cantidad')"
   ]
  },
  {
   "cell_type": "markdown",
   "id": "f4a540c3",
   "metadata": {},
   "source": [
    "Los dós métodos nos dejan la misma proporción del dataset original por lo que se peude tomar cualquiera de ellos: usaremos bfill para seguir el mismo patron que las columnas establecimiento y ciudad."
   ]
  },
  {
   "cell_type": "code",
   "execution_count": 143,
   "id": "03f09fe1",
   "metadata": {},
   "outputs": [],
   "source": [
    "df['genero'] = df['genero'].fillna(method='bfill')"
   ]
  },
  {
   "cell_type": "code",
   "execution_count": 144,
   "id": "9aef1ab7",
   "metadata": {},
   "outputs": [
    {
     "data": {
      "text/plain": [
       "0"
      ]
     },
     "execution_count": 144,
     "metadata": {},
     "output_type": "execute_result"
    }
   ],
   "source": [
    "## Despues de completar el género\n",
    "df.genero.isnull().sum()"
   ]
  },
  {
   "cell_type": "markdown",
   "id": "53166510",
   "metadata": {},
   "source": [
    "Completamos asi las 3 columnas con valore faltantes"
   ]
  },
  {
   "cell_type": "markdown",
   "id": "962b23fa",
   "metadata": {},
   "source": [
    "### Manejando la clasificacion de clientes\n",
    "\n",
    "En este caso se pidio **categorizar los clientes** por lo que en base a la empresa a la cual estamos realizando el análisis se podrá tomar enfoques distintos, por ejemplo a una empresa de marketing le interesaría saber el horario a la cual compra la mayor cantida de gente, una empresa de transporte le importaria saber en que establecimiento se hizo más compras y a una empresa de pasarela de pagos ¿ Quien es su cliente que le genera mas revenue ?, el challenge indica proponer una de estas categorias por lo que obtaremos arbitrariamente con el último caso"
   ]
  },
  {
   "cell_type": "code",
   "execution_count": 145,
   "id": "048a64c3",
   "metadata": {},
   "outputs": [],
   "source": [
    "# Sacando algunas columnas para categorizar usuarios que realizan transacciones con mayor revenue:\n",
    "df_for_revenue = df.copy()"
   ]
  },
  {
   "cell_type": "code",
   "execution_count": 146,
   "id": "c2c8e738",
   "metadata": {},
   "outputs": [],
   "source": [
    "# No necesitamos estas columnas ya que en caso de fecha a hora fueron pasados a date, en caso de dispositivo se paso a \n",
    "# 3 categorias de la cual dispositivo_model solo presenta una categoria para todos los datos\n",
    "df_for_revenue = df_for_revenue.drop(['fecha', 'hora', 'dispositivo', 'dispositivo_model'], axis=1)"
   ]
  },
  {
   "cell_type": "code",
   "execution_count": 147,
   "id": "552b954b",
   "metadata": {},
   "outputs": [],
   "source": [
    "# is prime y fraude son booleanos por lo que pasamos a 0 y 1\n",
    "df_for_revenue['is_prime'] = df_for_revenue['is_prime'].astype(int)\n",
    "df_for_revenue['fraude'] = df_for_revenue['fraude'].astype(int)"
   ]
  },
  {
   "cell_type": "code",
   "execution_count": 148,
   "id": "0945dd5f",
   "metadata": {
    "scrolled": true
   },
   "outputs": [
    {
     "data": {
      "text/html": [
       "<div>\n",
       "<style scoped>\n",
       "    .dataframe tbody tr th:only-of-type {\n",
       "        vertical-align: middle;\n",
       "    }\n",
       "\n",
       "    .dataframe tbody tr th {\n",
       "        vertical-align: top;\n",
       "    }\n",
       "\n",
       "    .dataframe thead th {\n",
       "        text-align: right;\n",
       "    }\n",
       "</style>\n",
       "<table border=\"1\" class=\"dataframe\">\n",
       "  <thead>\n",
       "    <tr style=\"text-align: right;\">\n",
       "      <th></th>\n",
       "      <th>ID_USER</th>\n",
       "      <th>genero</th>\n",
       "      <th>monto</th>\n",
       "      <th>establecimiento</th>\n",
       "      <th>ciudad</th>\n",
       "      <th>tipo_tc</th>\n",
       "      <th>linea_tc</th>\n",
       "      <th>interes_tc</th>\n",
       "      <th>status_txn</th>\n",
       "      <th>is_prime</th>\n",
       "      <th>dcto</th>\n",
       "      <th>cashback</th>\n",
       "      <th>fraude</th>\n",
       "      <th>date</th>\n",
       "      <th>dispositivo_puntaje</th>\n",
       "      <th>dispositivo_os</th>\n",
       "    </tr>\n",
       "  </thead>\n",
       "  <tbody>\n",
       "    <tr>\n",
       "      <th>0</th>\n",
       "      <td>0</td>\n",
       "      <td>F</td>\n",
       "      <td>608.345633</td>\n",
       "      <td>Super</td>\n",
       "      <td>Merida</td>\n",
       "      <td>Física</td>\n",
       "      <td>71000</td>\n",
       "      <td>51</td>\n",
       "      <td>Aceptada</td>\n",
       "      <td>0</td>\n",
       "      <td>60.834563</td>\n",
       "      <td>5.475111</td>\n",
       "      <td>0</td>\n",
       "      <td>1579654800</td>\n",
       "      <td>3</td>\n",
       "      <td>ANDROID</td>\n",
       "    </tr>\n",
       "    <tr>\n",
       "      <th>1</th>\n",
       "      <td>0</td>\n",
       "      <td>F</td>\n",
       "      <td>88.719243</td>\n",
       "      <td>MPago</td>\n",
       "      <td>Merida</td>\n",
       "      <td>Virtual</td>\n",
       "      <td>71000</td>\n",
       "      <td>51</td>\n",
       "      <td>Aceptada</td>\n",
       "      <td>0</td>\n",
       "      <td>0.000000</td>\n",
       "      <td>1.774385</td>\n",
       "      <td>0</td>\n",
       "      <td>1579089600</td>\n",
       "      <td>1</td>\n",
       "      <td>ANDROID</td>\n",
       "    </tr>\n",
       "    <tr>\n",
       "      <th>2</th>\n",
       "      <td>1</td>\n",
       "      <td>F</td>\n",
       "      <td>790.037653</td>\n",
       "      <td>MPago</td>\n",
       "      <td>Guadalajara</td>\n",
       "      <td>Virtual</td>\n",
       "      <td>94000</td>\n",
       "      <td>56</td>\n",
       "      <td>En proceso</td>\n",
       "      <td>0</td>\n",
       "      <td>0.000000</td>\n",
       "      <td>15.800753</td>\n",
       "      <td>0</td>\n",
       "      <td>1579276800</td>\n",
       "      <td>1</td>\n",
       "      <td>unknown_category_1</td>\n",
       "    </tr>\n",
       "    <tr>\n",
       "      <th>3</th>\n",
       "      <td>1</td>\n",
       "      <td>F</td>\n",
       "      <td>767.005387</td>\n",
       "      <td>MPago</td>\n",
       "      <td>Guadalajara</td>\n",
       "      <td>Física</td>\n",
       "      <td>94000</td>\n",
       "      <td>56</td>\n",
       "      <td>Aceptada</td>\n",
       "      <td>0</td>\n",
       "      <td>0.000000</td>\n",
       "      <td>7.670054</td>\n",
       "      <td>0</td>\n",
       "      <td>1578240000</td>\n",
       "      <td>3</td>\n",
       "      <td>WEB</td>\n",
       "    </tr>\n",
       "    <tr>\n",
       "      <th>4</th>\n",
       "      <td>1</td>\n",
       "      <td>F</td>\n",
       "      <td>254.171053</td>\n",
       "      <td>Abarrotes</td>\n",
       "      <td>Guadalajara</td>\n",
       "      <td>Física</td>\n",
       "      <td>94000</td>\n",
       "      <td>56</td>\n",
       "      <td>Aceptada</td>\n",
       "      <td>0</td>\n",
       "      <td>0.000000</td>\n",
       "      <td>2.541711</td>\n",
       "      <td>0</td>\n",
       "      <td>1580396400</td>\n",
       "      <td>3</td>\n",
       "      <td>unknown_category_2</td>\n",
       "    </tr>\n",
       "  </tbody>\n",
       "</table>\n",
       "</div>"
      ],
      "text/plain": [
       "   ID_USER genero       monto establecimiento       ciudad  tipo_tc  linea_tc  \\\n",
       "0        0      F  608.345633           Super       Merida   Física     71000   \n",
       "1        0      F   88.719243           MPago       Merida  Virtual     71000   \n",
       "2        1      F  790.037653           MPago  Guadalajara  Virtual     94000   \n",
       "3        1      F  767.005387           MPago  Guadalajara   Física     94000   \n",
       "4        1      F  254.171053       Abarrotes  Guadalajara   Física     94000   \n",
       "\n",
       "   interes_tc  status_txn  is_prime       dcto   cashback  fraude        date  \\\n",
       "0          51    Aceptada         0  60.834563   5.475111       0  1579654800   \n",
       "1          51    Aceptada         0   0.000000   1.774385       0  1579089600   \n",
       "2          56  En proceso         0   0.000000  15.800753       0  1579276800   \n",
       "3          56    Aceptada         0   0.000000   7.670054       0  1578240000   \n",
       "4          56    Aceptada         0   0.000000   2.541711       0  1580396400   \n",
       "\n",
       "   dispositivo_puntaje      dispositivo_os  \n",
       "0                    3             ANDROID  \n",
       "1                    1             ANDROID  \n",
       "2                    1  unknown_category_1  \n",
       "3                    3                 WEB  \n",
       "4                    3  unknown_category_2  "
      ]
     },
     "execution_count": 148,
     "metadata": {},
     "output_type": "execute_result"
    }
   ],
   "source": [
    "df_for_revenue.head()"
   ]
  },
  {
   "cell_type": "markdown",
   "id": "b55d9ce5",
   "metadata": {},
   "source": [
    "#### Escalamos los datos"
   ]
  },
  {
   "cell_type": "code",
   "execution_count": 149,
   "id": "3a2d0cfc",
   "metadata": {},
   "outputs": [],
   "source": [
    "std_scaler = StandardScaler() # no outliers para monto y date\n",
    "rob_scaler = RobustScaler() # robusto cuando hay outliers : como dcto y cashback (como vimos en EDA.ipynb)\n",
    "\n",
    "\n",
    "df_for_revenue['monto'] = std_scaler.fit_transform(df_for_revenue['monto'].values.reshape(-1,1))\n",
    "df_for_revenue['date'] = std_scaler.fit_transform(df_for_revenue['date'].values.reshape(-1,1))\n",
    "\n",
    "df_for_revenue['dcto'] = rob_scaler.fit_transform(df_for_revenue['dcto'].values.reshape(-1,1))\n",
    "df_for_revenue['cashback'] = rob_scaler.fit_transform(df_for_revenue['cashback'].values.reshape(-1,1))"
   ]
  },
  {
   "cell_type": "code",
   "execution_count": 150,
   "id": "af0b000a",
   "metadata": {},
   "outputs": [
    {
     "data": {
      "text/html": [
       "<div>\n",
       "<style scoped>\n",
       "    .dataframe tbody tr th:only-of-type {\n",
       "        vertical-align: middle;\n",
       "    }\n",
       "\n",
       "    .dataframe tbody tr th {\n",
       "        vertical-align: top;\n",
       "    }\n",
       "\n",
       "    .dataframe thead th {\n",
       "        text-align: right;\n",
       "    }\n",
       "</style>\n",
       "<table border=\"1\" class=\"dataframe\">\n",
       "  <thead>\n",
       "    <tr style=\"text-align: right;\">\n",
       "      <th></th>\n",
       "      <th>ID_USER</th>\n",
       "      <th>genero</th>\n",
       "      <th>monto</th>\n",
       "      <th>establecimiento</th>\n",
       "      <th>ciudad</th>\n",
       "      <th>tipo_tc</th>\n",
       "      <th>linea_tc</th>\n",
       "      <th>interes_tc</th>\n",
       "      <th>status_txn</th>\n",
       "      <th>is_prime</th>\n",
       "      <th>dcto</th>\n",
       "      <th>cashback</th>\n",
       "      <th>fraude</th>\n",
       "      <th>date</th>\n",
       "      <th>dispositivo_puntaje</th>\n",
       "      <th>dispositivo_os</th>\n",
       "    </tr>\n",
       "  </thead>\n",
       "  <tbody>\n",
       "    <tr>\n",
       "      <th>0</th>\n",
       "      <td>0</td>\n",
       "      <td>F</td>\n",
       "      <td>0.377721</td>\n",
       "      <td>Super</td>\n",
       "      <td>Merida</td>\n",
       "      <td>Física</td>\n",
       "      <td>71000</td>\n",
       "      <td>51</td>\n",
       "      <td>Aceptada</td>\n",
       "      <td>0</td>\n",
       "      <td>3.24093</td>\n",
       "      <td>-0.028154</td>\n",
       "      <td>0</td>\n",
       "      <td>0.630889</td>\n",
       "      <td>3</td>\n",
       "      <td>ANDROID</td>\n",
       "    </tr>\n",
       "    <tr>\n",
       "      <th>1</th>\n",
       "      <td>0</td>\n",
       "      <td>F</td>\n",
       "      <td>-1.418404</td>\n",
       "      <td>MPago</td>\n",
       "      <td>Merida</td>\n",
       "      <td>Virtual</td>\n",
       "      <td>71000</td>\n",
       "      <td>51</td>\n",
       "      <td>Aceptada</td>\n",
       "      <td>0</td>\n",
       "      <td>0.00000</td>\n",
       "      <td>-0.672895</td>\n",
       "      <td>0</td>\n",
       "      <td>-0.149276</td>\n",
       "      <td>1</td>\n",
       "      <td>ANDROID</td>\n",
       "    </tr>\n",
       "    <tr>\n",
       "      <th>2</th>\n",
       "      <td>1</td>\n",
       "      <td>F</td>\n",
       "      <td>1.005752</td>\n",
       "      <td>MPago</td>\n",
       "      <td>Guadalajara</td>\n",
       "      <td>Virtual</td>\n",
       "      <td>94000</td>\n",
       "      <td>56</td>\n",
       "      <td>En proceso</td>\n",
       "      <td>0</td>\n",
       "      <td>0.00000</td>\n",
       "      <td>1.770781</td>\n",
       "      <td>0</td>\n",
       "      <td>0.109123</td>\n",
       "      <td>1</td>\n",
       "      <td>unknown_category_1</td>\n",
       "    </tr>\n",
       "    <tr>\n",
       "      <th>3</th>\n",
       "      <td>1</td>\n",
       "      <td>F</td>\n",
       "      <td>0.926139</td>\n",
       "      <td>MPago</td>\n",
       "      <td>Guadalajara</td>\n",
       "      <td>Física</td>\n",
       "      <td>94000</td>\n",
       "      <td>56</td>\n",
       "      <td>Aceptada</td>\n",
       "      <td>0</td>\n",
       "      <td>0.00000</td>\n",
       "      <td>0.354249</td>\n",
       "      <td>0</td>\n",
       "      <td>-1.322007</td>\n",
       "      <td>3</td>\n",
       "      <td>WEB</td>\n",
       "    </tr>\n",
       "    <tr>\n",
       "      <th>4</th>\n",
       "      <td>1</td>\n",
       "      <td>F</td>\n",
       "      <td>-0.846509</td>\n",
       "      <td>Abarrotes</td>\n",
       "      <td>Guadalajara</td>\n",
       "      <td>Física</td>\n",
       "      <td>94000</td>\n",
       "      <td>56</td>\n",
       "      <td>Aceptada</td>\n",
       "      <td>0</td>\n",
       "      <td>0.00000</td>\n",
       "      <td>-0.539211</td>\n",
       "      <td>0</td>\n",
       "      <td>1.654545</td>\n",
       "      <td>3</td>\n",
       "      <td>unknown_category_2</td>\n",
       "    </tr>\n",
       "  </tbody>\n",
       "</table>\n",
       "</div>"
      ],
      "text/plain": [
       "   ID_USER genero     monto establecimiento       ciudad  tipo_tc  linea_tc  \\\n",
       "0        0      F  0.377721           Super       Merida   Física     71000   \n",
       "1        0      F -1.418404           MPago       Merida  Virtual     71000   \n",
       "2        1      F  1.005752           MPago  Guadalajara  Virtual     94000   \n",
       "3        1      F  0.926139           MPago  Guadalajara   Física     94000   \n",
       "4        1      F -0.846509       Abarrotes  Guadalajara   Física     94000   \n",
       "\n",
       "   interes_tc  status_txn  is_prime     dcto  cashback  fraude      date  \\\n",
       "0          51    Aceptada         0  3.24093 -0.028154       0  0.630889   \n",
       "1          51    Aceptada         0  0.00000 -0.672895       0 -0.149276   \n",
       "2          56  En proceso         0  0.00000  1.770781       0  0.109123   \n",
       "3          56    Aceptada         0  0.00000  0.354249       0 -1.322007   \n",
       "4          56    Aceptada         0  0.00000 -0.539211       0  1.654545   \n",
       "\n",
       "   dispositivo_puntaje      dispositivo_os  \n",
       "0                    3             ANDROID  \n",
       "1                    1             ANDROID  \n",
       "2                    1  unknown_category_1  \n",
       "3                    3                 WEB  \n",
       "4                    3  unknown_category_2  "
      ]
     },
     "execution_count": 150,
     "metadata": {},
     "output_type": "execute_result"
    }
   ],
   "source": [
    "df_for_revenue.head()"
   ]
  },
  {
   "cell_type": "markdown",
   "id": "f255eae0",
   "metadata": {},
   "source": [
    "#### Primer paso\n",
    "\n",
    "Nos quedamos con las variables que no son categoricas y de enterés, para esto agrupamos por usuario"
   ]
  },
  {
   "cell_type": "code",
   "execution_count": 151,
   "id": "483e6f8f",
   "metadata": {},
   "outputs": [],
   "source": [
    "agg_for_revenue = { \n",
    "            'monto': lambda x: x.mean(),\n",
    "            'is_prime': lambda x: x.mean(),\n",
    "            'dcto': lambda x: x.mean(),\n",
    "            'cashback': lambda x: x.mean(),\n",
    "            'fraude': lambda x: x.mean(),\n",
    "            'date': lambda x: x.mean(),\n",
    "        }\n"
   ]
  },
  {
   "cell_type": "code",
   "execution_count": 152,
   "id": "f029fe8a",
   "metadata": {},
   "outputs": [],
   "source": [
    "df_for_revenue_root = df_for_revenue.groupby('ID_USER').agg(agg_for_revenue)"
   ]
  },
  {
   "cell_type": "markdown",
   "id": "9617afd6",
   "metadata": {},
   "source": [
    "#### Segundo paso\n",
    "Agrupamos por usuario, cruzamos con las categorias y nos quedamos con distintas funciones del monto (suma, maximo, minimo, ...)"
   ]
  },
  {
   "cell_type": "code",
   "execution_count": 153,
   "id": "6b97a1d2",
   "metadata": {},
   "outputs": [],
   "source": [
    "def makeForCategory(df, c, aggfunc=sum):\n",
    "    try:\n",
    "        ct = pd.crosstab(df['ID_USER'], df[c], values=df.monto, aggfunc=aggfunc)\n",
    "    except:\n",
    "        ct = pd.crosstab(df['ID_USER'], df[c], values=df.monto, aggfunc=aggfunc)\n",
    "    ct.columns = [f\"{c}_{aggfunc.__name__}_{v}\" for v in ct.columns]\n",
    "    return ct"
   ]
  },
  {
   "cell_type": "code",
   "execution_count": 154,
   "id": "87809229",
   "metadata": {
    "scrolled": true
   },
   "outputs": [
    {
     "name": "stdout",
     "output_type": "stream",
     "text": [
      "Haciendo:  genero\n",
      "Haciendo:  establecimiento\n",
      "Haciendo:  ciudad\n",
      "Haciendo:  tipo_tc\n",
      "Haciendo:  linea_tc\n",
      "Haciendo:  interes_tc\n",
      "Haciendo:  status_txn\n",
      "Haciendo:  dispositivo_puntaje\n",
      "Haciendo:  dispositivo_os\n"
     ]
    }
   ],
   "source": [
    "df_for_revenue_uncategory = []\n",
    "\n",
    "aggfuncs = [len, sum, min, max]\n",
    "for c in df_for_revenue.drop([\"ID_USER\", \"monto\", \"is_prime\", \"dcto\", \"cashback\", 'fraude', \"date\"], axis=1):\n",
    "    print(\"Haciendo: \", c)\n",
    "    df_for_revenue_uncategory.extend([makeForCategory(df_for_revenue, c, aggfunc) for aggfunc in aggfuncs])"
   ]
  },
  {
   "cell_type": "markdown",
   "id": "8ed640dd",
   "metadata": {},
   "source": [
    "De lista pasamos a df"
   ]
  },
  {
   "cell_type": "code",
   "execution_count": 155,
   "id": "58dca464",
   "metadata": {},
   "outputs": [],
   "source": [
    "df_for_revenue_uncategory = pd.concat(df_for_revenue_uncategory, axis=1)"
   ]
  },
  {
   "cell_type": "markdown",
   "id": "5298b94a",
   "metadata": {},
   "source": [
    "Unimos ahora los que fueron tratados con categoria con los iniciales que habiamos extraidos, todos agrupados por usuario"
   ]
  },
  {
   "cell_type": "code",
   "execution_count": 156,
   "id": "d251c0c3",
   "metadata": {
    "scrolled": false
   },
   "outputs": [
    {
     "data": {
      "text/html": [
       "<div>\n",
       "<style scoped>\n",
       "    .dataframe tbody tr th:only-of-type {\n",
       "        vertical-align: middle;\n",
       "    }\n",
       "\n",
       "    .dataframe tbody tr th {\n",
       "        vertical-align: top;\n",
       "    }\n",
       "\n",
       "    .dataframe thead th {\n",
       "        text-align: right;\n",
       "    }\n",
       "</style>\n",
       "<table border=\"1\" class=\"dataframe\">\n",
       "  <thead>\n",
       "    <tr style=\"text-align: right;\">\n",
       "      <th></th>\n",
       "      <th>monto</th>\n",
       "      <th>is_prime</th>\n",
       "      <th>dcto</th>\n",
       "      <th>cashback</th>\n",
       "      <th>fraude</th>\n",
       "      <th>date</th>\n",
       "      <th>genero_len_F</th>\n",
       "      <th>genero_len_M</th>\n",
       "      <th>genero_sum_F</th>\n",
       "      <th>genero_sum_M</th>\n",
       "      <th>...</th>\n",
       "      <th>dispositivo_os_sum_unknown_category_1</th>\n",
       "      <th>dispositivo_os_sum_unknown_category_2</th>\n",
       "      <th>dispositivo_os_min_ANDROID</th>\n",
       "      <th>dispositivo_os_min_WEB</th>\n",
       "      <th>dispositivo_os_min_unknown_category_1</th>\n",
       "      <th>dispositivo_os_min_unknown_category_2</th>\n",
       "      <th>dispositivo_os_max_ANDROID</th>\n",
       "      <th>dispositivo_os_max_WEB</th>\n",
       "      <th>dispositivo_os_max_unknown_category_1</th>\n",
       "      <th>dispositivo_os_max_unknown_category_2</th>\n",
       "    </tr>\n",
       "    <tr>\n",
       "      <th>ID_USER</th>\n",
       "      <th></th>\n",
       "      <th></th>\n",
       "      <th></th>\n",
       "      <th></th>\n",
       "      <th></th>\n",
       "      <th></th>\n",
       "      <th></th>\n",
       "      <th></th>\n",
       "      <th></th>\n",
       "      <th></th>\n",
       "      <th></th>\n",
       "      <th></th>\n",
       "      <th></th>\n",
       "      <th></th>\n",
       "      <th></th>\n",
       "      <th></th>\n",
       "      <th></th>\n",
       "      <th></th>\n",
       "      <th></th>\n",
       "      <th></th>\n",
       "      <th></th>\n",
       "    </tr>\n",
       "  </thead>\n",
       "  <tbody>\n",
       "    <tr>\n",
       "      <th>0</th>\n",
       "      <td>-0.520342</td>\n",
       "      <td>0.0</td>\n",
       "      <td>1.620465</td>\n",
       "      <td>-0.350524</td>\n",
       "      <td>0.0</td>\n",
       "      <td>0.240807</td>\n",
       "      <td>2.0</td>\n",
       "      <td>NaN</td>\n",
       "      <td>-1.040684</td>\n",
       "      <td>NaN</td>\n",
       "      <td>...</td>\n",
       "      <td>NaN</td>\n",
       "      <td>NaN</td>\n",
       "      <td>-1.418404</td>\n",
       "      <td>NaN</td>\n",
       "      <td>NaN</td>\n",
       "      <td>NaN</td>\n",
       "      <td>0.377721</td>\n",
       "      <td>NaN</td>\n",
       "      <td>NaN</td>\n",
       "      <td>NaN</td>\n",
       "    </tr>\n",
       "    <tr>\n",
       "      <th>1</th>\n",
       "      <td>-0.037869</td>\n",
       "      <td>0.0</td>\n",
       "      <td>0.948525</td>\n",
       "      <td>0.238214</td>\n",
       "      <td>0.0</td>\n",
       "      <td>0.023937</td>\n",
       "      <td>7.0</td>\n",
       "      <td>NaN</td>\n",
       "      <td>-0.265086</td>\n",
       "      <td>NaN</td>\n",
       "      <td>...</td>\n",
       "      <td>2.432376</td>\n",
       "      <td>-3.623601</td>\n",
       "      <td>NaN</td>\n",
       "      <td>0.926139</td>\n",
       "      <td>1.005752</td>\n",
       "      <td>-1.597162</td>\n",
       "      <td>NaN</td>\n",
       "      <td>0.926139</td>\n",
       "      <td>1.426624</td>\n",
       "      <td>-0.568791</td>\n",
       "    </tr>\n",
       "    <tr>\n",
       "      <th>2</th>\n",
       "      <td>-0.347431</td>\n",
       "      <td>0.0</td>\n",
       "      <td>2.092596</td>\n",
       "      <td>-0.269096</td>\n",
       "      <td>0.0</td>\n",
       "      <td>0.177982</td>\n",
       "      <td>7.0</td>\n",
       "      <td>NaN</td>\n",
       "      <td>-2.432018</td>\n",
       "      <td>NaN</td>\n",
       "      <td>...</td>\n",
       "      <td>NaN</td>\n",
       "      <td>-0.214719</td>\n",
       "      <td>-1.515107</td>\n",
       "      <td>-1.171688</td>\n",
       "      <td>NaN</td>\n",
       "      <td>-0.214719</td>\n",
       "      <td>0.266756</td>\n",
       "      <td>0.345466</td>\n",
       "      <td>NaN</td>\n",
       "      <td>-0.214719</td>\n",
       "    </tr>\n",
       "    <tr>\n",
       "      <th>3</th>\n",
       "      <td>-0.898996</td>\n",
       "      <td>0.0</td>\n",
       "      <td>0.000000</td>\n",
       "      <td>-0.565667</td>\n",
       "      <td>0.0</td>\n",
       "      <td>1.145202</td>\n",
       "      <td>2.0</td>\n",
       "      <td>NaN</td>\n",
       "      <td>-1.797993</td>\n",
       "      <td>NaN</td>\n",
       "      <td>...</td>\n",
       "      <td>NaN</td>\n",
       "      <td>NaN</td>\n",
       "      <td>-1.508660</td>\n",
       "      <td>NaN</td>\n",
       "      <td>NaN</td>\n",
       "      <td>NaN</td>\n",
       "      <td>-0.289333</td>\n",
       "      <td>NaN</td>\n",
       "      <td>NaN</td>\n",
       "      <td>NaN</td>\n",
       "    </tr>\n",
       "    <tr>\n",
       "      <th>4</th>\n",
       "      <td>-0.766989</td>\n",
       "      <td>0.0</td>\n",
       "      <td>2.953288</td>\n",
       "      <td>-0.595711</td>\n",
       "      <td>0.0</td>\n",
       "      <td>1.276885</td>\n",
       "      <td>NaN</td>\n",
       "      <td>1.0</td>\n",
       "      <td>NaN</td>\n",
       "      <td>-0.766989</td>\n",
       "      <td>...</td>\n",
       "      <td>NaN</td>\n",
       "      <td>NaN</td>\n",
       "      <td>NaN</td>\n",
       "      <td>-0.766989</td>\n",
       "      <td>NaN</td>\n",
       "      <td>NaN</td>\n",
       "      <td>NaN</td>\n",
       "      <td>-0.766989</td>\n",
       "      <td>NaN</td>\n",
       "      <td>NaN</td>\n",
       "    </tr>\n",
       "  </tbody>\n",
       "</table>\n",
       "<p>5 rows × 538 columns</p>\n",
       "</div>"
      ],
      "text/plain": [
       "            monto  is_prime      dcto  cashback  fraude      date  \\\n",
       "ID_USER                                                             \n",
       "0       -0.520342       0.0  1.620465 -0.350524     0.0  0.240807   \n",
       "1       -0.037869       0.0  0.948525  0.238214     0.0  0.023937   \n",
       "2       -0.347431       0.0  2.092596 -0.269096     0.0  0.177982   \n",
       "3       -0.898996       0.0  0.000000 -0.565667     0.0  1.145202   \n",
       "4       -0.766989       0.0  2.953288 -0.595711     0.0  1.276885   \n",
       "\n",
       "         genero_len_F  genero_len_M  genero_sum_F  genero_sum_M  ...  \\\n",
       "ID_USER                                                          ...   \n",
       "0                 2.0           NaN     -1.040684           NaN  ...   \n",
       "1                 7.0           NaN     -0.265086           NaN  ...   \n",
       "2                 7.0           NaN     -2.432018           NaN  ...   \n",
       "3                 2.0           NaN     -1.797993           NaN  ...   \n",
       "4                 NaN           1.0           NaN     -0.766989  ...   \n",
       "\n",
       "         dispositivo_os_sum_unknown_category_1  \\\n",
       "ID_USER                                          \n",
       "0                                          NaN   \n",
       "1                                     2.432376   \n",
       "2                                          NaN   \n",
       "3                                          NaN   \n",
       "4                                          NaN   \n",
       "\n",
       "         dispositivo_os_sum_unknown_category_2  dispositivo_os_min_ANDROID  \\\n",
       "ID_USER                                                                      \n",
       "0                                          NaN                   -1.418404   \n",
       "1                                    -3.623601                         NaN   \n",
       "2                                    -0.214719                   -1.515107   \n",
       "3                                          NaN                   -1.508660   \n",
       "4                                          NaN                         NaN   \n",
       "\n",
       "         dispositivo_os_min_WEB  dispositivo_os_min_unknown_category_1  \\\n",
       "ID_USER                                                                  \n",
       "0                           NaN                                    NaN   \n",
       "1                      0.926139                               1.005752   \n",
       "2                     -1.171688                                    NaN   \n",
       "3                           NaN                                    NaN   \n",
       "4                     -0.766989                                    NaN   \n",
       "\n",
       "         dispositivo_os_min_unknown_category_2  dispositivo_os_max_ANDROID  \\\n",
       "ID_USER                                                                      \n",
       "0                                          NaN                    0.377721   \n",
       "1                                    -1.597162                         NaN   \n",
       "2                                    -0.214719                    0.266756   \n",
       "3                                          NaN                   -0.289333   \n",
       "4                                          NaN                         NaN   \n",
       "\n",
       "         dispositivo_os_max_WEB  dispositivo_os_max_unknown_category_1  \\\n",
       "ID_USER                                                                  \n",
       "0                           NaN                                    NaN   \n",
       "1                      0.926139                               1.426624   \n",
       "2                      0.345466                                    NaN   \n",
       "3                           NaN                                    NaN   \n",
       "4                     -0.766989                                    NaN   \n",
       "\n",
       "         dispositivo_os_max_unknown_category_2  \n",
       "ID_USER                                         \n",
       "0                                          NaN  \n",
       "1                                    -0.568791  \n",
       "2                                    -0.214719  \n",
       "3                                          NaN  \n",
       "4                                          NaN  \n",
       "\n",
       "[5 rows x 538 columns]"
      ]
     },
     "execution_count": 156,
     "metadata": {},
     "output_type": "execute_result"
    }
   ],
   "source": [
    "df_for_revenue = pd.concat([df_for_revenue_root, df_for_revenue_uncategory], axis = 1)\n",
    "df_for_revenue.head()"
   ]
  },
  {
   "cell_type": "code",
   "execution_count": 161,
   "id": "117bb819",
   "metadata": {},
   "outputs": [
    {
     "data": {
      "text/html": [
       "<div>\n",
       "<style scoped>\n",
       "    .dataframe tbody tr th:only-of-type {\n",
       "        vertical-align: middle;\n",
       "    }\n",
       "\n",
       "    .dataframe tbody tr th {\n",
       "        vertical-align: top;\n",
       "    }\n",
       "\n",
       "    .dataframe thead th {\n",
       "        text-align: right;\n",
       "    }\n",
       "</style>\n",
       "<table border=\"1\" class=\"dataframe\">\n",
       "  <thead>\n",
       "    <tr style=\"text-align: right;\">\n",
       "      <th></th>\n",
       "      <th>monto</th>\n",
       "      <th>is_prime</th>\n",
       "      <th>dcto</th>\n",
       "      <th>cashback</th>\n",
       "      <th>fraude</th>\n",
       "      <th>date</th>\n",
       "      <th>genero_len_F</th>\n",
       "      <th>genero_len_M</th>\n",
       "      <th>genero_sum_F</th>\n",
       "      <th>genero_sum_M</th>\n",
       "      <th>...</th>\n",
       "      <th>dispositivo_os_sum_unknown_category_1</th>\n",
       "      <th>dispositivo_os_sum_unknown_category_2</th>\n",
       "      <th>dispositivo_os_min_ANDROID</th>\n",
       "      <th>dispositivo_os_min_WEB</th>\n",
       "      <th>dispositivo_os_min_unknown_category_1</th>\n",
       "      <th>dispositivo_os_min_unknown_category_2</th>\n",
       "      <th>dispositivo_os_max_ANDROID</th>\n",
       "      <th>dispositivo_os_max_WEB</th>\n",
       "      <th>dispositivo_os_max_unknown_category_1</th>\n",
       "      <th>dispositivo_os_max_unknown_category_2</th>\n",
       "    </tr>\n",
       "    <tr>\n",
       "      <th>ID_USER</th>\n",
       "      <th></th>\n",
       "      <th></th>\n",
       "      <th></th>\n",
       "      <th></th>\n",
       "      <th></th>\n",
       "      <th></th>\n",
       "      <th></th>\n",
       "      <th></th>\n",
       "      <th></th>\n",
       "      <th></th>\n",
       "      <th></th>\n",
       "      <th></th>\n",
       "      <th></th>\n",
       "      <th></th>\n",
       "      <th></th>\n",
       "      <th></th>\n",
       "      <th></th>\n",
       "      <th></th>\n",
       "      <th></th>\n",
       "      <th></th>\n",
       "      <th></th>\n",
       "    </tr>\n",
       "  </thead>\n",
       "  <tbody>\n",
       "    <tr>\n",
       "      <th>0</th>\n",
       "      <td>-0.520342</td>\n",
       "      <td>0.0</td>\n",
       "      <td>1.620465</td>\n",
       "      <td>-0.350524</td>\n",
       "      <td>0.0</td>\n",
       "      <td>0.240807</td>\n",
       "      <td>2.0</td>\n",
       "      <td>0.0</td>\n",
       "      <td>-1.040684</td>\n",
       "      <td>0.000000</td>\n",
       "      <td>...</td>\n",
       "      <td>0.000000</td>\n",
       "      <td>0.000000</td>\n",
       "      <td>-1.418404</td>\n",
       "      <td>0.000000</td>\n",
       "      <td>0.000000</td>\n",
       "      <td>0.000000</td>\n",
       "      <td>0.377721</td>\n",
       "      <td>0.000000</td>\n",
       "      <td>0.000000</td>\n",
       "      <td>0.000000</td>\n",
       "    </tr>\n",
       "    <tr>\n",
       "      <th>1</th>\n",
       "      <td>-0.037869</td>\n",
       "      <td>0.0</td>\n",
       "      <td>0.948525</td>\n",
       "      <td>0.238214</td>\n",
       "      <td>0.0</td>\n",
       "      <td>0.023937</td>\n",
       "      <td>7.0</td>\n",
       "      <td>0.0</td>\n",
       "      <td>-0.265086</td>\n",
       "      <td>0.000000</td>\n",
       "      <td>...</td>\n",
       "      <td>2.432376</td>\n",
       "      <td>-3.623601</td>\n",
       "      <td>0.000000</td>\n",
       "      <td>0.926139</td>\n",
       "      <td>1.005752</td>\n",
       "      <td>-1.597162</td>\n",
       "      <td>0.000000</td>\n",
       "      <td>0.926139</td>\n",
       "      <td>1.426624</td>\n",
       "      <td>-0.568791</td>\n",
       "    </tr>\n",
       "    <tr>\n",
       "      <th>2</th>\n",
       "      <td>-0.347431</td>\n",
       "      <td>0.0</td>\n",
       "      <td>2.092596</td>\n",
       "      <td>-0.269096</td>\n",
       "      <td>0.0</td>\n",
       "      <td>0.177982</td>\n",
       "      <td>7.0</td>\n",
       "      <td>0.0</td>\n",
       "      <td>-2.432018</td>\n",
       "      <td>0.000000</td>\n",
       "      <td>...</td>\n",
       "      <td>0.000000</td>\n",
       "      <td>-0.214719</td>\n",
       "      <td>-1.515107</td>\n",
       "      <td>-1.171688</td>\n",
       "      <td>0.000000</td>\n",
       "      <td>-0.214719</td>\n",
       "      <td>0.266756</td>\n",
       "      <td>0.345466</td>\n",
       "      <td>0.000000</td>\n",
       "      <td>-0.214719</td>\n",
       "    </tr>\n",
       "    <tr>\n",
       "      <th>3</th>\n",
       "      <td>-0.898996</td>\n",
       "      <td>0.0</td>\n",
       "      <td>0.000000</td>\n",
       "      <td>-0.565667</td>\n",
       "      <td>0.0</td>\n",
       "      <td>1.145202</td>\n",
       "      <td>2.0</td>\n",
       "      <td>0.0</td>\n",
       "      <td>-1.797993</td>\n",
       "      <td>0.000000</td>\n",
       "      <td>...</td>\n",
       "      <td>0.000000</td>\n",
       "      <td>0.000000</td>\n",
       "      <td>-1.508660</td>\n",
       "      <td>0.000000</td>\n",
       "      <td>0.000000</td>\n",
       "      <td>0.000000</td>\n",
       "      <td>-0.289333</td>\n",
       "      <td>0.000000</td>\n",
       "      <td>0.000000</td>\n",
       "      <td>0.000000</td>\n",
       "    </tr>\n",
       "    <tr>\n",
       "      <th>4</th>\n",
       "      <td>-0.766989</td>\n",
       "      <td>0.0</td>\n",
       "      <td>2.953288</td>\n",
       "      <td>-0.595711</td>\n",
       "      <td>0.0</td>\n",
       "      <td>1.276885</td>\n",
       "      <td>0.0</td>\n",
       "      <td>1.0</td>\n",
       "      <td>0.000000</td>\n",
       "      <td>-0.766989</td>\n",
       "      <td>...</td>\n",
       "      <td>0.000000</td>\n",
       "      <td>0.000000</td>\n",
       "      <td>0.000000</td>\n",
       "      <td>-0.766989</td>\n",
       "      <td>0.000000</td>\n",
       "      <td>0.000000</td>\n",
       "      <td>0.000000</td>\n",
       "      <td>-0.766989</td>\n",
       "      <td>0.000000</td>\n",
       "      <td>0.000000</td>\n",
       "    </tr>\n",
       "  </tbody>\n",
       "</table>\n",
       "<p>5 rows × 538 columns</p>\n",
       "</div>"
      ],
      "text/plain": [
       "            monto  is_prime      dcto  cashback  fraude      date  \\\n",
       "ID_USER                                                             \n",
       "0       -0.520342       0.0  1.620465 -0.350524     0.0  0.240807   \n",
       "1       -0.037869       0.0  0.948525  0.238214     0.0  0.023937   \n",
       "2       -0.347431       0.0  2.092596 -0.269096     0.0  0.177982   \n",
       "3       -0.898996       0.0  0.000000 -0.565667     0.0  1.145202   \n",
       "4       -0.766989       0.0  2.953288 -0.595711     0.0  1.276885   \n",
       "\n",
       "         genero_len_F  genero_len_M  genero_sum_F  genero_sum_M  ...  \\\n",
       "ID_USER                                                          ...   \n",
       "0                 2.0           0.0     -1.040684      0.000000  ...   \n",
       "1                 7.0           0.0     -0.265086      0.000000  ...   \n",
       "2                 7.0           0.0     -2.432018      0.000000  ...   \n",
       "3                 2.0           0.0     -1.797993      0.000000  ...   \n",
       "4                 0.0           1.0      0.000000     -0.766989  ...   \n",
       "\n",
       "         dispositivo_os_sum_unknown_category_1  \\\n",
       "ID_USER                                          \n",
       "0                                     0.000000   \n",
       "1                                     2.432376   \n",
       "2                                     0.000000   \n",
       "3                                     0.000000   \n",
       "4                                     0.000000   \n",
       "\n",
       "         dispositivo_os_sum_unknown_category_2  dispositivo_os_min_ANDROID  \\\n",
       "ID_USER                                                                      \n",
       "0                                     0.000000                   -1.418404   \n",
       "1                                    -3.623601                    0.000000   \n",
       "2                                    -0.214719                   -1.515107   \n",
       "3                                     0.000000                   -1.508660   \n",
       "4                                     0.000000                    0.000000   \n",
       "\n",
       "         dispositivo_os_min_WEB  dispositivo_os_min_unknown_category_1  \\\n",
       "ID_USER                                                                  \n",
       "0                      0.000000                               0.000000   \n",
       "1                      0.926139                               1.005752   \n",
       "2                     -1.171688                               0.000000   \n",
       "3                      0.000000                               0.000000   \n",
       "4                     -0.766989                               0.000000   \n",
       "\n",
       "         dispositivo_os_min_unknown_category_2  dispositivo_os_max_ANDROID  \\\n",
       "ID_USER                                                                      \n",
       "0                                     0.000000                    0.377721   \n",
       "1                                    -1.597162                    0.000000   \n",
       "2                                    -0.214719                    0.266756   \n",
       "3                                     0.000000                   -0.289333   \n",
       "4                                     0.000000                    0.000000   \n",
       "\n",
       "         dispositivo_os_max_WEB  dispositivo_os_max_unknown_category_1  \\\n",
       "ID_USER                                                                  \n",
       "0                      0.000000                               0.000000   \n",
       "1                      0.926139                               1.426624   \n",
       "2                      0.345466                               0.000000   \n",
       "3                      0.000000                               0.000000   \n",
       "4                     -0.766989                               0.000000   \n",
       "\n",
       "         dispositivo_os_max_unknown_category_2  \n",
       "ID_USER                                         \n",
       "0                                     0.000000  \n",
       "1                                    -0.568791  \n",
       "2                                    -0.214719  \n",
       "3                                     0.000000  \n",
       "4                                     0.000000  \n",
       "\n",
       "[5 rows x 538 columns]"
      ]
     },
     "execution_count": 161,
     "metadata": {},
     "output_type": "execute_result"
    }
   ],
   "source": [
    "# nan reemplazando por 0\n",
    "df_for_revenue.fillna(0, inplace=True)\n",
    "df_for_revenue.head()"
   ]
  },
  {
   "cell_type": "code",
   "execution_count": 165,
   "id": "fcbb83b5",
   "metadata": {},
   "outputs": [
    {
     "data": {
      "image/png": "[encoded data removed]",
      "text/plain": [
       "<Figure size 864x432 with 1 Axes>"
      ]
     },
     "metadata": {
      "needs_background": "light"
     },
     "output_type": "display_data"
    }
   ],
   "source": [
    "# Within Cluster Sum Of Squares (wcss)\n",
    "\n",
    "wcss = []\n",
    "for k in range(1,11):\n",
    "    kmeans = KMeans(n_clusters=k, init=\"k-means++\")\n",
    "    kmeans.fit(df_for_revenue)\n",
    "    wcss.append(kmeans.inertia_)\n",
    "plt.figure(figsize=(12,6))    \n",
    "plt.grid()\n",
    "plt.title('Método del codo (\\'Elbow method\\')')\n",
    "plt.plot(range(1,11),wcss, linewidth=2, color=\"red\", marker =\"8\")\n",
    "plt.xlabel(\"K Value\")\n",
    "plt.xticks(np.arange(1,11,1))\n",
    "plt.ylabel(\"WCSS\")\n",
    "plt.show()"
   ]
  },
  {
   "cell_type": "markdown",
   "id": "4adcf159",
   "metadata": {},
   "source": [
    "Como vemos por el método del codo para k = 5, existen 5 grupos los cuales se segmentaron dando mayor enfasis al monto que generan "
   ]
  },
  {
   "cell_type": "code",
   "execution_count": 181,
   "id": "8e9fa978",
   "metadata": {},
   "outputs": [],
   "source": [
    "km = KMeans(n_clusters=5)\n",
    "clusters = km.fit_predict(df_for_revenue)\n",
    "df_for_revenue[\"label\"] = clusters"
   ]
  },
  {
   "cell_type": "markdown",
   "id": "b8f78d06",
   "metadata": {},
   "source": [
    "Recordar que aqui son solo 4000 clientes, vemos que existen más de la clase 0"
   ]
  },
  {
   "cell_type": "code",
   "execution_count": 195,
   "id": "34ba8b98",
   "metadata": {},
   "outputs": [
    {
     "name": "stderr",
     "output_type": "stream",
     "text": [
      "C:\\Users\\Nilton\\AppData\\Local\\Temp/ipykernel_17224/1637304608.py:1: FutureWarning: Dropping of nuisance columns in DataFrame reductions (with 'numeric_only=None') is deprecated; in a future version this will raise TypeError.  Select only valid columns before calling the reduction.\n",
      "  df[df['ID_USER'] == df_for_revenue[df_for_revenue['label']==0].index[0]].mean()\n"
     ]
    },
    {
     "data": {
      "text/plain": [
       "ID_USER                0.000000e+00\n",
       "monto                  3.485324e+02\n",
       "hora                   1.350000e+01\n",
       "linea_tc               7.100000e+04\n",
       "interes_tc             5.100000e+01\n",
       "is_prime               0.000000e+00\n",
       "dcto                   3.041728e+01\n",
       "cashback               3.624748e+00\n",
       "fraude                 0.000000e+00\n",
       "date                   1.579372e+09\n",
       "dispositivo_model      2.020000e+03\n",
       "dispositivo_puntaje    2.000000e+00\n",
       "dtype: float64"
      ]
     },
     "execution_count": 195,
     "metadata": {},
     "output_type": "execute_result"
    }
   ],
   "source": [
    "df[df['ID_USER'] == df_for_revenue[df_for_revenue['label']==0].index[0]].mean()"
   ]
  },
  {
   "cell_type": "code",
   "execution_count": 196,
   "id": "11e4e03c",
   "metadata": {},
   "outputs": [
    {
     "name": "stderr",
     "output_type": "stream",
     "text": [
      "C:\\Users\\Nilton\\AppData\\Local\\Temp/ipykernel_17224/1230335644.py:1: FutureWarning: Dropping of nuisance columns in DataFrame reductions (with 'numeric_only=None') is deprecated; in a future version this will raise TypeError.  Select only valid columns before calling the reduction.\n",
      "  df[df['ID_USER'] == df_for_revenue[df_for_revenue['label']==1].index[0]].mean()\n"
     ]
    },
    {
     "data": {
      "text/plain": [
       "ID_USER                8.000000e+00\n",
       "monto                  4.250972e+02\n",
       "hora                   1.085714e+01\n",
       "linea_tc               7.600000e+04\n",
       "interes_tc             5.800000e+01\n",
       "is_prime               0.000000e+00\n",
       "dcto                   1.506983e+01\n",
       "cashback               4.864977e+00\n",
       "fraude                 0.000000e+00\n",
       "date                   1.579400e+09\n",
       "dispositivo_model      2.020000e+03\n",
       "dispositivo_puntaje    2.428571e+00\n",
       "dtype: float64"
      ]
     },
     "execution_count": 196,
     "metadata": {},
     "output_type": "execute_result"
    }
   ],
   "source": [
    "df[df['ID_USER'] == df_for_revenue[df_for_revenue['label']==1].index[0]].mean()"
   ]
  },
  {
   "cell_type": "code",
   "execution_count": 197,
   "id": "81dd9a68",
   "metadata": {},
   "outputs": [
    {
     "name": "stderr",
     "output_type": "stream",
     "text": [
      "C:\\Users\\Nilton\\AppData\\Local\\Temp/ipykernel_17224/673736319.py:1: FutureWarning: Dropping of nuisance columns in DataFrame reductions (with 'numeric_only=None') is deprecated; in a future version this will raise TypeError.  Select only valid columns before calling the reduction.\n",
      "  df[df['ID_USER'] == df_for_revenue[df_for_revenue['label']==2].index[0]].mean()\n"
     ]
    },
    {
     "data": {
      "text/plain": [
       "ID_USER                1.000000e+00\n",
       "monto                  4.881137e+02\n",
       "hora                   7.571429e+00\n",
       "linea_tc               9.400000e+04\n",
       "interes_tc             5.600000e+01\n",
       "is_prime               0.000000e+00\n",
       "dcto                   1.780448e+01\n",
       "cashback               7.004029e+00\n",
       "fraude                 0.000000e+00\n",
       "date                   1.579215e+09\n",
       "dispositivo_model      2.020000e+03\n",
       "dispositivo_puntaje    2.428571e+00\n",
       "dtype: float64"
      ]
     },
     "execution_count": 197,
     "metadata": {},
     "output_type": "execute_result"
    }
   ],
   "source": [
    "df[df['ID_USER'] == df_for_revenue[df_for_revenue['label']==2].index[0]].mean()"
   ]
  },
  {
   "cell_type": "code",
   "execution_count": 198,
   "id": "d4276d33",
   "metadata": {
    "scrolled": true
   },
   "outputs": [
    {
     "name": "stderr",
     "output_type": "stream",
     "text": [
      "C:\\Users\\Nilton\\AppData\\Local\\Temp/ipykernel_17224/2564812972.py:1: FutureWarning: Dropping of nuisance columns in DataFrame reductions (with 'numeric_only=None') is deprecated; in a future version this will raise TypeError.  Select only valid columns before calling the reduction.\n",
      "  df[df['ID_USER'] == df_for_revenue[df_for_revenue['label']==3].index[0]].mean()\n"
     ]
    },
    {
     "data": {
      "text/plain": [
       "ID_USER                1.900000e+01\n",
       "monto                  5.822026e+02\n",
       "hora                   9.294118e+00\n",
       "linea_tc               2.800000e+04\n",
       "interes_tc             4.200000e+01\n",
       "is_prime               0.000000e+00\n",
       "dcto                   1.824650e+01\n",
       "cashback               7.075790e+00\n",
       "fraude                 5.882353e-02\n",
       "date                   1.579530e+09\n",
       "dispositivo_model      2.020000e+03\n",
       "dispositivo_puntaje    2.588235e+00\n",
       "dtype: float64"
      ]
     },
     "execution_count": 198,
     "metadata": {},
     "output_type": "execute_result"
    }
   ],
   "source": [
    "df[df['ID_USER'] == df_for_revenue[df_for_revenue['label']==3].index[0]].mean()"
   ]
  },
  {
   "cell_type": "code",
   "execution_count": 199,
   "id": "1a4c8f6e",
   "metadata": {},
   "outputs": [
    {
     "name": "stderr",
     "output_type": "stream",
     "text": [
      "C:\\Users\\Nilton\\AppData\\Local\\Temp/ipykernel_17224/2554676294.py:1: FutureWarning: Dropping of nuisance columns in DataFrame reductions (with 'numeric_only=None') is deprecated; in a future version this will raise TypeError.  Select only valid columns before calling the reduction.\n",
      "  df[df['ID_USER'] == df_for_revenue[df_for_revenue['label']==4].index[0]].mean()\n"
     ]
    },
    {
     "data": {
      "text/plain": [
       "ID_USER                3.600000e+01\n",
       "monto                  4.698296e+02\n",
       "hora                   1.136842e+01\n",
       "linea_tc               9.400000e+04\n",
       "interes_tc             4.200000e+01\n",
       "is_prime               0.000000e+00\n",
       "dcto                   1.799745e+01\n",
       "cashback               4.793250e+00\n",
       "fraude                 0.000000e+00\n",
       "date                   1.579351e+09\n",
       "dispositivo_model      2.020000e+03\n",
       "dispositivo_puntaje    2.421053e+00\n",
       "dtype: float64"
      ]
     },
     "execution_count": 199,
     "metadata": {},
     "output_type": "execute_result"
    }
   ],
   "source": [
    "df[df['ID_USER'] == df_for_revenue[df_for_revenue['label']==4].index[0]].mean()"
   ]
  },
  {
   "cell_type": "markdown",
   "id": "949b097b",
   "metadata": {},
   "source": [
    "##### Se observa que:\n",
    "\n",
    "* Clase 0: media monto 345 ~ Menos dinero\n",
    "* Clase 1: media monto 420\n",
    "* Clase 2: media monto 485\n",
    "* Clase 3: media monto 575 - Más dinero !!!\n",
    "* Clase 4: media monto 465\n",
    "\n",
    "Como se ve no estan por orden pero ahora mostramos una gráfica notando donde estan cada uno"
   ]
  },
  {
   "cell_type": "code",
   "execution_count": 184,
   "id": "b5885416",
   "metadata": {
    "scrolled": true
   },
   "outputs": [
    {
     "data": {
      "text/plain": [
       "Text(0, 0.5, 'Cantidad')"
      ]
     },
     "execution_count": 184,
     "metadata": {},
     "output_type": "execute_result"
    },
    {
     "data": {
      "image/png": "[encoded data removed]",
      "text/plain": [
       "<Figure size 432x288 with 1 Axes>"
      ]
     },
     "metadata": {
      "needs_background": "light"
     },
     "output_type": "display_data"
    }
   ],
   "source": [
    "sns.countplot(x = 'label', data=df_for_revenue)\n",
    "plt.title('Cantidad de clases', fontsize=14)\n",
    "plt.xlabel('')\n",
    "plt.ylabel('Cantidad')"
   ]
  },
  {
   "cell_type": "markdown",
   "id": "065aea4d",
   "metadata": {},
   "source": [
    "Si bien es cierto una situación a considerar es que primero se agrupo por cliente es decir si bien es cierto el monto estaba equilibrado pero era por transaccion no por cliente, ahora vemos que existe clientes más de la clase 0 que son los que poco transaccionan, y muy pocos clientes de la clase 3 que trae más ganancias (mas monto, menos devolucion y descuentos y también menos fraude)"
   ]
  },
  {
   "cell_type": "markdown",
   "id": "4999142e",
   "metadata": {},
   "source": [
    "Si todo esta data le pertenece a una pasarela de pagos (por que toda la data es transaccional) se diria que no tenemos muchos clientes que generén mucho dinero."
   ]
  }
 ],
 "metadata": {
  "kernelspec": {
   "display_name": "Python 3 (ipykernel)",
   "language": "python",
   "name": "python3"
  },
  "language_info": {
   "codemirror_mode": {
    "name": "ipython",
    "version": 3
   },
   "file_extension": ".py",
   "mimetype": "text/x-python",
   "name": "python",
   "nbconvert_exporter": "python",
   "pygments_lexer": "ipython3",
   "version": "3.8.8"
  }
 },
 "nbformat": 4,
 "nbformat_minor": 5
}
